{
 "cells": [
  {
   "cell_type": "code",
   "execution_count": null,
   "id": "fcbcbb29",
   "metadata": {},
   "outputs": [],
   "source": [
    "import pandas as pd\n",
    "import numpy as np\n",
    "import matplotlib.pyplot as plt\n",
    "import torch.nn as nn\n",
    "import torch\n",
    "from tqdm import tqdm\n",
    "from torch.utils.data import DataLoader\n",
    "import iri_dataset_generator as iri"
   ]
  },
  {
   "cell_type": "markdown",
   "id": "dc39da0e",
   "metadata": {},
   "source": [
    "# Description\n",
    "\n",
    "This is a test model to figure out standardized training and dataset formatting"
   ]
  },
  {
   "cell_type": "markdown",
   "id": "d0cd7158",
   "metadata": {},
   "source": [
    "## Preprocessing"
   ]
  },
  {
   "cell_type": "code",
   "execution_count": null,
   "id": "18614bc7",
   "metadata": {},
   "outputs": [],
   "source": [
    "SEQUENCE_LENGTH = 10\n",
    "train, test = iri.load_iri_datasets(path=\"../training_data/IRI-only.parquet\",seq_length=SEQUENCE_LENGTH)"
   ]
  },
  {
   "cell_type": "markdown",
   "id": "b05dcd63",
   "metadata": {},
   "source": [
    "## Model Definition"
   ]
  },
  {
   "cell_type": "code",
   "execution_count": null,
   "id": "68ff376a",
   "metadata": {},
   "outputs": [],
   "source": [
    "class FNN(nn.Module):\n",
    "    def __init__(self):\n",
    "        super(FNN, self).__init__()\n",
    "        self.f1 = nn.Linear(SEQUENCE_LENGTH * 3, 128)\n",
    "        self.f2 = nn.Linear(128, 128)\n",
    "        self.f4 = nn.Linear(128, 128)\n",
    "        self.f3 = nn.Linear(128, 2)\n",
    "        \n",
    "    def forward(self, x):\n",
    "        x = x.view(-1, 30)\n",
    "        x = self.f1(x)\n",
    "        x = self.f2(x)\n",
    "        x = self.f4(x)\n",
    "        x = self.f3(x)\n",
    "        return x\n",
    "    \n",
    "print(train[0])"
   ]
  },
  {
   "cell_type": "markdown",
   "id": "1401b0de",
   "metadata": {},
   "source": [
    "## Training"
   ]
  },
  {
   "cell_type": "code",
   "execution_count": null,
   "id": "06fdfefb",
   "metadata": {},
   "outputs": [],
   "source": [
    "model = FNN()\n",
    "loss = nn.MSELoss()\n",
    "optimizer = torch.optim.Adam(model.parameters(), lr=0.00001)\n",
    "device = torch.device(\"cuda\" if torch.cuda.is_available() else \"cpu\")\n",
    "\n",
    "def train_model(model, train, test, loss, optimizer, epochs=20, batch_size=2048, test_every_n=1):\n",
    "    train_data = DataLoader(train, batch_size=batch_size, shuffle=True)\n",
    "    bar = tqdm(range(epochs), desc=\"Training Epoch\")\n",
    "    test_loss=0\n",
    "    for i in bar:\n",
    "        avgloss = 0\n",
    "        num_losses = 0\n",
    "        for _, data in enumerate(train_data):\n",
    "            inputs, goal = data[0].to(device), data[1].to(device)\n",
    "            optimizer.zero_grad()\n",
    "            computed_loss=loss(model(inputs), goal)\n",
    "            computed_loss.backward()\n",
    "            torch.nn.utils.clip_grad_norm_(model.parameters(), 1)\n",
    "            optimizer.step()\n",
    "\n",
    "            num_losses += 1\n",
    "            avgloss += computed_loss.item()\n",
    "        if i % test_every_n == 0:\n",
    "            test_data = DataLoader(test, batch_size=batch_size, shuffle=True)\n",
    "            test_losss = 0\n",
    "            test_num_losses = 0\n",
    "            for _, data in enumerate(test_data):\n",
    "                inputs, goal = data[0].to(device), data[1].to(device)\n",
    "                test_losss += loss(model(inputs), goal).item()\n",
    "                test_num_losses += 1\n",
    "            test_loss = test_losss/test_num_losses\n",
    "        bar.set_postfix({\"Train Loss\": avgloss/num_losses, \"Test Loss\": test_loss})\n",
    "\n",
    "model.to(device)\n",
    "train_model(model, train, test, loss, optimizer, epochs=200, test_every_n=1)\n",
    "        "
   ]
  }
 ],
 "metadata": {
  "kernelspec": {
   "display_name": "Python 3 (ipykernel)",
   "language": "python",
   "name": "python3"
  },
  "language_info": {
   "codemirror_mode": {
    "name": "ipython",
    "version": 3
   },
   "file_extension": ".py",
   "mimetype": "text/x-python",
   "name": "python",
   "nbconvert_exporter": "python",
   "pygments_lexer": "ipython3",
   "version": "3.11.3"
  }
 },
 "nbformat": 4,
 "nbformat_minor": 5
}
