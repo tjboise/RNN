{
 "cells": [
  {
   "cell_type": "code",
   "execution_count": null,
   "id": "fcbcbb29",
   "metadata": {},
   "outputs": [],
   "source": [
    "import pandas as pd\n",
    "import numpy as np\n",
    "import matplotlib.pyplot as plt\n",
    "from sklearn.model_selection import train_test_split\n",
    "from sklearn.preprocessing import StandardScaler\n",
    "from sklearn.neural_network import MLPRegressor"
   ]
  },
  {
   "cell_type": "markdown",
   "id": "d0cd7158",
   "metadata": {},
   "source": [
    "## Preprocessing"
   ]
  },
  {
   "cell_type": "code",
   "execution_count": null,
   "id": "18614bc7",
   "metadata": {},
   "outputs": [],
   "source": [
    "# Load the CSV file\n",
    "df = pd.read_csv('')\n",
    "\n",
    "# Extract the features (x and y) and the target variable (v)\n",
    "X = df[['x', 'y']]\n",
    "y = df['z']\n",
    "\n",
    "# Split the data into training and testing sets\n",
    "X_train, X_test, y_train, y_test = train_test_split(X, y, test_size=0.2, random_state=42)\n",
    "\n",
    "# Scale the features using StandardScaler\n",
    "scaler = StandardScaler()\n",
    "X_train_scaled = scaler.fit_transform(X_train)\n",
    "X_test_scaled = scaler.transform(X_test)\n",
    "\n"
   ]
  },
  {
   "cell_type": "code",
   "execution_count": null,
   "id": "06fdfefb",
   "metadata": {},
   "outputs": [],
   "source": [
    "# Create an MLPRegressor model\n",
    "model = MLPRegressor(hidden_layer_sizes=(10,10,10,10,10,10), random_state=42)\n",
    "\n",
    "# Train the model\n",
    "model.fit(X_train, y_train)\n",
    "# model.fit(X,y)\n",
    "\n",
    "# Evaluate the model on the training set\n",
    "train_score = model.score(X_train, y_train)\n",
    "print(f'Training R^2 score: {train_score:.2f}')\n",
    "\n",
    "# Evaluate the model on the testing set\n",
    "test_score = model.score(X_test, y_test)\n",
    "print(f'Testing R^2 score: {test_score:.2f}')\n",
    "\n"
   ]
  }
 ],
 "metadata": {
  "kernelspec": {
   "display_name": "Python 3",
   "language": "python",
   "name": "python3"
  },
  "language_info": {
   "codemirror_mode": {
    "name": "ipython",
    "version": 3
   },
   "file_extension": ".py",
   "mimetype": "text/x-python",
   "name": "python",
   "nbconvert_exporter": "python",
   "pygments_lexer": "ipython3",
   "version": "3.8.8"
  }
 },
 "nbformat": 4,
 "nbformat_minor": 5
}
