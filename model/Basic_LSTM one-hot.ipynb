{
 "cells": [
  {
   "cell_type": "markdown",
   "metadata": {},
   "source": [
    "# This is a basic LSSTM model used to test dataset preperation and model evaluation"
   ]
  },
  {
   "cell_type": "markdown",
   "metadata": {},
   "source": [
    "## Imports"
   ]
  },
  {
   "cell_type": "code",
   "execution_count": 1,
   "metadata": {},
   "outputs": [],
   "source": [
    "import torch.nn as nn\n",
    "import torch\n",
    "import full_iri_dataset_generator as iri\n",
    "from training_loop import train_model"
   ]
  },
  {
   "cell_type": "markdown",
   "metadata": {},
   "source": [
    "## Constants\n",
    "\n",
    "- `SEQUENCE_LENGTH` is the number of historical measurements before the target element to provide to the model\n",
    "- `NUM_FREATURES_PER_SAMPLE` is how many details each measurement has. `IRI-only` has 3: left_iri, right_iri, and time_since_first_measurement\n",
    "- `NUM_LAYERS` is the number of RNN layers to use"
   ]
  },
  {
   "cell_type": "code",
   "execution_count": 2,
   "metadata": {},
   "outputs": [],
   "source": [
    "SEQUENCE_LENGTH = 10\n",
    "NUM_FEATURES_PER_SAMPLE = 6\n",
    "NUM_LAYERS = 5"
   ]
  },
  {
   "cell_type": "markdown",
   "metadata": {},
   "source": [
    "## Dataset Preperation\n",
    "\n",
    "Load train and test datasets"
   ]
  },
  {
   "cell_type": "code",
   "execution_count": 3,
   "metadata": {},
   "outputs": [
    {
     "name": "stderr",
     "output_type": "stream",
     "text": [
      "                                                                          \r"
     ]
    }
   ],
   "source": [
    "train, test = iri.load_iri_datasets(path=\"../training_data/final_data.parquet\",\n",
    "                                    construction_path=\"../training_data/construction_data.parquet\",\n",
    "                                    seq_length=SEQUENCE_LENGTH,\n",
    "                                    one_hot=True)"
   ]
  },
  {
   "cell_type": "markdown",
   "metadata": {},
   "source": [
    "## Model Definition\n",
    "\n",
    "Here a basic RNN classifier model is defined.\n",
    "\n",
    "1. Data is flattened\n",
    "2. RNN layers process data and modify hidden state\n",
    "3. final layer maps hidden state to 3 predicted probilities\n",
    "4. outputs are scaled using a logsoftmax function"
   ]
  },
  {
   "cell_type": "code",
   "execution_count": 4,
   "metadata": {},
   "outputs": [],
   "source": [
    "class RNN(nn.Module):\n",
    "    def __init__(self):\n",
    "        super(RNN, self).__init__()\n",
    "        self.rnn = nn.LSTM(input_size=SEQUENCE_LENGTH,\n",
    "                          hidden_size=SEQUENCE_LENGTH * NUM_FEATURES_PER_SAMPLE,\n",
    "                          num_layers=NUM_LAYERS,\n",
    "                          batch_first=True)\n",
    "        self.final = nn.Linear(SEQUENCE_LENGTH * NUM_FEATURES_PER_SAMPLE, 3)\n",
    "\n",
    "    def forward(self, x):\n",
    "        hidden = torch.zeros(NUM_LAYERS,\n",
    "                             x.size(0),\n",
    "                             SEQUENCE_LENGTH * NUM_FEATURES_PER_SAMPLE).to(x.device)\n",
    "        cell = torch.zeros(NUM_LAYERS,\n",
    "                            x.size(0),\n",
    "                            SEQUENCE_LENGTH * NUM_FEATURES_PER_SAMPLE).to(x.device)\n",
    "        out, _ = self.rnn(x, (hidden, cell))\n",
    "        out = self.final(out[:, -1, :])\n",
    "        out = nn.LogSoftmax(dim=1)(out)\n",
    "        return out"
   ]
  },
  {
   "cell_type": "markdown",
   "metadata": {},
   "source": [
    "## Training"
   ]
  },
  {
   "cell_type": "code",
   "execution_count": 11,
   "metadata": {},
   "outputs": [
    {
     "name": "stderr",
     "output_type": "stream",
     "text": [
      "Training Epoch: 100%|██████████| 100/100 [02:32<00:00,  1.53s/it, Train Loss=0.0596, Test Loss=0.0989]\n"
     ]
    }
   ],
   "source": [
    "model = RNN()\n",
    "loss = nn.CrossEntropyLoss()\n",
    "optimizer = torch.optim.Adam(model.parameters(), lr=0.001)\n",
    "scheduler = torch.optim.lr_scheduler.StepLR(optimizer, step_size=20, gamma=0.33)\n",
    "\n",
    "train_model(model, train, test, loss, optimizer, epochs=100, test_every_n=10, batch_size=512, lr_scheduler=scheduler)"
   ]
  },
  {
   "cell_type": "markdown",
   "metadata": {},
   "source": [
    "## Accuracy Computation"
   ]
  },
  {
   "cell_type": "code",
   "execution_count": 25,
   "metadata": {},
   "outputs": [
    {
     "name": "stdout",
     "output_type": "stream",
     "text": [
      "TRAIN: GOOD | ACCEPTABLE | POOR\n",
      "ACCURACY: 1.0  |  0.7968936562538147  |  0.9908524751663208\n",
      "PRECISION: 0.998706579208374  |  0.8917112350463867  |  0.9817655086517334\n",
      "RECALL: 1.0  |  0.7968936562538147  |  0.9908524751663208\n",
      "F1: 0.9993528723716736  |  0.8416403532028198  |  0.9862880110740662\n",
      "\n",
      "TEST: GOOD | ACCEPTABLE | POOR\n",
      "ACCURACY: 0.9963924884796143  |  0.6551724076271057  |  0.9790703058242798\n",
      "PRECISION: 0.9985538721084595  |  0.7638190984725952  |  0.9644097089767456\n",
      "RECALL: 0.9963924884796143  |  0.6551724076271057  |  0.9790703058242798\n",
      "F1: 0.9974720478057861  |  0.7053363919258118  |  0.9716846942901611\n"
     ]
    }
   ],
   "source": [
    "from torcheval.metrics import MulticlassAccuracy, MulticlassPrecision, MulticlassRecall, MulticlassF1Score\n",
    "from torch.utils.data import DataLoader\n",
    "\n",
    "def compute_metric(dataset, metric):\n",
    "    train_data = DataLoader(dataset, batch_size=512, shuffle=True)\n",
    "    for _, data in enumerate(train_data):\n",
    "        inputs, goal = data[0], data[1]\n",
    "        _, goal = torch.max(goal, dim=1)\n",
    "        outputs = model(inputs)\n",
    "        metric.update(outputs, goal)\n",
    "    return metric.compute()\n",
    "\n",
    "def show_metrics_for(dataset, state):\n",
    "    train_accuracy = compute_metric(dataset, metric=MulticlassAccuracy(average='none', num_classes=3))\n",
    "    train_precision = compute_metric(dataset, metric=MulticlassPrecision(average='None', num_classes=3))\n",
    "    train_recall = compute_metric(dataset, metric=MulticlassRecall(average=None, num_classes=3))\n",
    "    train_f1 = compute_metric(dataset, metric=MulticlassF1Score(average=None, num_classes=3))\n",
    "    print(f\"{state}: GOOD | ACCEPTABLE | POOR\")\n",
    "    print(\"ACCURACY:\", float(train_accuracy[0]), \" | \", float(train_accuracy[1]), \" | \", float(train_accuracy[2]))\n",
    "    print(\"PRECISION:\", float(train_precision[0]), \" | \", float(train_precision[1]), \" | \", float(train_precision[2]))\n",
    "    print(\"RECALL:\", float(train_recall[0]), \" | \", float(train_recall[1]), \" | \", float(train_recall[2]))\n",
    "    print(\"F1:\", float(train_f1[0]), \" | \", float(train_f1[1]), \" | \", float(train_f1[2]))\n",
    "\n",
    "model.to(\"cpu\")\n",
    "model.eval()\n",
    "with torch.no_grad():\n",
    "    show_metrics_for(train, \"TRAIN\")\n",
    "    print(\"\")\n",
    "    show_metrics_for(test, \"TEST\")"
   ]
  }
 ],
 "metadata": {
  "kernelspec": {
   "display_name": "Python 3",
   "language": "python",
   "name": "python3"
  },
  "language_info": {
   "codemirror_mode": {
    "name": "ipython",
    "version": 3
   },
   "file_extension": ".py",
   "mimetype": "text/x-python",
   "name": "python",
   "nbconvert_exporter": "python",
   "pygments_lexer": "ipython3",
   "version": "3.11.3"
  }
 },
 "nbformat": 4,
 "nbformat_minor": 2
}
