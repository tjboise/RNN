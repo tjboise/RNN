{
 "cells": [
  {
   "cell_type": "markdown",
   "metadata": {},
   "source": [
    "# This is a basic RNN model used to test dataset preperation and model evaluation"
   ]
  },
  {
   "cell_type": "markdown",
   "metadata": {},
   "source": [
    "## Imports"
   ]
  },
  {
   "cell_type": "code",
   "execution_count": null,
   "metadata": {},
   "outputs": [],
   "source": [
    "import torch.nn as nn\n",
    "import torch\n",
    "import full_iri_dataset_generator as iri\n",
    "from training_loop import train_model"
   ]
  },
  {
   "cell_type": "markdown",
   "metadata": {},
   "source": [
    "## Constants\n",
    "\n",
    "- `SEQUENCE_LENGTH` is the number of historical measurements before the target element to provide to the model\n",
    "- `NUM_FREATURES_PER_SAMPLE` is how many details each measurement has. `IRI-only` has 3: left_iri, right_iri, and time_since_first_measurement\n",
    "- `NUM_LAYERS` is the number of RNN layers to use"
   ]
  },
  {
   "cell_type": "code",
   "execution_count": null,
   "metadata": {},
   "outputs": [],
   "source": [
    "SEQUENCE_LENGTH = 10\n",
    "NUM_FEATURES_PER_SAMPLE = 14\n",
    "NUM_LAYERS = 5"
   ]
  },
  {
   "cell_type": "markdown",
   "metadata": {},
   "source": [
    "## Dataset Preperation\n",
    "\n",
    "Load train and test datasets"
   ]
  },
  {
   "cell_type": "code",
   "execution_count": null,
   "metadata": {},
   "outputs": [],
   "source": [
    "train, test = iri.load_iri_datasets(path=\"../training_data/final_data.parquet\",\n",
    "                                    construction_path=\"../training_data/construction_data.parquet\",\n",
    "                                    seq_length=SEQUENCE_LENGTH)\n",
    "train2, test2 = iri.load_iri_datasets(path=\"../training_data/final_data.parquet\",\n",
    "                                    construction_path=\"../training_data/construction_data.parquet\",\n",
    "                                    seq_length=SEQUENCE_LENGTH, seed=127)\n",
    "train3, test3 = iri.load_iri_datasets(path=\"../training_data/final_data.parquet\",\n",
    "                                    construction_path=\"../training_data/construction_data.parquet\",\n",
    "                                    seq_length=SEQUENCE_LENGTH, seed=83)"
   ]
  },
  {
   "cell_type": "markdown",
   "metadata": {},
   "source": [
    "## Model Definition\n",
    "\n",
    "Here a basic RNN classifier model is defined.\n",
    "\n",
    "1. Data is flattened\n",
    "2. RNN layers process data and modify hidden state\n",
    "3. final layer maps hidden state to predicted left and right wheel IRIs\n",
    "4. outputs are scaled using a logsoftmax function"
   ]
  },
  {
   "cell_type": "code",
   "execution_count": null,
   "metadata": {},
   "outputs": [],
   "source": [
    "class RNN(nn.Module):\n",
    "    def __init__(self):\n",
    "        super(RNN, self).__init__()\n",
    "        self.rnn = nn.RNN(input_size=SEQUENCE_LENGTH,\n",
    "                          hidden_size=SEQUENCE_LENGTH * NUM_FEATURES_PER_SAMPLE,\n",
    "                          num_layers=NUM_LAYERS,\n",
    "                          batch_first=True)\n",
    "        self.final = nn.Linear(SEQUENCE_LENGTH * NUM_FEATURES_PER_SAMPLE, 2)\n",
    "        \n",
    "    def forward(self, x):\n",
    "        #transpose x\n",
    "        # x = x.transpose(1,2)\n",
    "        h0 = torch.zeros(NUM_LAYERS,\n",
    "                         x.size(0),\n",
    "                         SEQUENCE_LENGTH * NUM_FEATURES_PER_SAMPLE).to(x.device)\n",
    "        out, _ = self.rnn(x, h0)\n",
    "        out = self.final(out[:, -1, :])\n",
    "        return out\n",
    "    \n",
    "class RNN_T(nn.Module):\n",
    "    def __init__(self):\n",
    "        super(RNN_T, self).__init__()\n",
    "        self.rnn = nn.RNN(input_size=NUM_FEATURES_PER_SAMPLE,\n",
    "                          hidden_size=SEQUENCE_LENGTH * NUM_FEATURES_PER_SAMPLE,\n",
    "                          num_layers=NUM_LAYERS,\n",
    "                          batch_first=True)\n",
    "        self.final = nn.Linear(SEQUENCE_LENGTH * NUM_FEATURES_PER_SAMPLE, 2)\n",
    "        \n",
    "    def forward(self, x):\n",
    "        #transpose x\n",
    "        x = x.transpose(1,2)\n",
    "        h0 = torch.zeros(NUM_LAYERS,\n",
    "                         x.size(0),\n",
    "                         SEQUENCE_LENGTH * NUM_FEATURES_PER_SAMPLE).to(x.device)\n",
    "        out, _ = self.rnn(x, h0)\n",
    "        out = self.final(out[:, -1, :])\n",
    "        return out"
   ]
  },
  {
   "cell_type": "markdown",
   "metadata": {},
   "source": [
    "## Training"
   ]
  },
  {
   "cell_type": "code",
   "execution_count": null,
   "metadata": {},
   "outputs": [],
   "source": [
    "model1 = RNN()\n",
    "model2 = RNN()\n",
    "model3 = RNN()\n",
    "loss = nn.MSELoss()\n",
    "optimizer1 = torch.optim.Adam(model1.parameters(), lr=0.0005)\n",
    "optimizer2 = torch.optim.Adam(model2.parameters(), lr=0.0005)\n",
    "optimizer3 = torch.optim.Adam(model3.parameters(), lr=0.0005)\n",
    "\n",
    "improved = train_model(model1, train, test, loss, optimizer1, epochs=100, test_every_n=1, batch_size=512)\n",
    "improved2 = train_model(model2, train2, test2, loss, optimizer2, epochs=100, test_every_n=1, batch_size=512)\n",
    "improved3 = train_model(model3, train3, test3, loss, optimizer3, epochs=100, test_every_n=1, batch_size=512)\n",
    "# write the training data to a file named \"norm\"\n"
   ]
  },
  {
   "cell_type": "code",
   "execution_count": null,
   "metadata": {},
   "outputs": [],
   "source": [
    "print(f\"ver1: trainloss: {improved['train_losses'][-1]}, testloss: {improved['test_losses'][-1]}, trainr2: {improved['train_r2s'][-1]}, testr2: {improved['test_r2s'][-1]}\")\n",
    "print(f\"ver2: trainloss: {improved2['train_losses'][-1]}, testloss: {improved2['test_losses'][-1]}, trainr2: {improved2['train_r2s'][-1]}, testr2: {improved2['test_r2s'][-1]}\")\n",
    "print(f\"ver3: trainloss: {improved3['train_losses'][-1]}, testloss: {improved3['test_losses'][-1]}, trainr2: {improved3['train_r2s'][-1]}, testr2: {improved3['test_r2s'][-1]}\")"
   ]
  },
  {
   "cell_type": "code",
   "execution_count": null,
   "metadata": {},
   "outputs": [],
   "source": [
    "model_t = RNN_T()\n",
    "loss_t = nn.MSELoss()\n",
    "optimizer_t = torch.optim.Adam(model_t.parameters(), lr=0.00001)\n",
    "lr_scheduler_t = torch.optim.lr_scheduler.StepLR(optimizer_t, step_size=10, gamma=0.75)\n",
    "\n",
    "traindata = train_model(model_t, train, test, loss_t, optimizer_t, epochs=100, test_every_n=1, batch_size=512)"
   ]
  },
  {
   "cell_type": "code",
   "execution_count": null,
   "metadata": {},
   "outputs": [],
   "source": [
    "import matplotlib.pyplot as plt\n",
    "import numpy as np\n",
    "def scaler(x):\n",
    "    return (np.sqrt(x) * iri.iri_range) ** 2 \n",
    "plt.plot(scaler(traindata[\"train_losses\"][1:]), label=\"Train Loss\", color=\"black\", linestyle=\"--\")\n",
    "plt.plot(scaler(traindata[\"test_losses\"][1:]), label=\"Test Loss\", color=\"black\")\n",
    "plt.plot(scaler(improved[\"train_losses\"][1:]), label=\"Train Loss (Transposed Data)\", color=\"#92d050\", linestyle=\"--\")\n",
    "plt.plot(scaler(improved[\"test_losses\"][1:]), label=\"Test Loss (Transposed Data)\", color=\"#92d050\")\n",
    "plt.xlabel(\"Epoch\")\n",
    "plt.ylabel(\"Loss (MSE)\")\n",
    "plt.legend()\n",
    "plt.show()"
   ]
  },
  {
   "cell_type": "code",
   "execution_count": null,
   "metadata": {},
   "outputs": [],
   "source": [
    "\n",
    "plt.plot(traindata[\"train_r2s\"][1:], label=\"Train $R^2$\", color=\"black\", linestyle=\"--\")\n",
    "plt.plot(traindata[\"test_r2s\"][1:], label=\"Test $R^2$\", color=\"black\")\n",
    "plt.plot(improved[\"train_r2s\"][1:], label=\"Train $R^2$ (Transposed Data)\", color=\"#92d050\", linestyle=\"--\")\n",
    "plt.plot(improved[\"test_r2s\"][1:], label=\"Test $R^2$ (Transposed Data)\", color=\"#92d050\")\n",
    "plt.xlabel(\"Epoch\")\n",
    "plt.ylabel(\"R2\")\n",
    "plt.legend()\n",
    "plt.show()"
   ]
  },
  {
   "cell_type": "markdown",
   "metadata": {},
   "source": [
    "## R^2 Evaluation"
   ]
  },
  {
   "cell_type": "code",
   "execution_count": null,
   "metadata": {},
   "outputs": [],
   "source": [
    "from torcheval.metrics import R2Score\n",
    "from torch.utils.data import DataLoader\n",
    "\n",
    "def compute_r2_for(dataset):\n",
    "    r2 = R2Score()\n",
    "    train_data = DataLoader(dataset, batch_size=256, shuffle=True)\n",
    "    for _, data in enumerate(train_data):\n",
    "        inputs, goal = data[0], data[1]\n",
    "        outputs = model1(inputs)\n",
    "        r2.update(goal, outputs)\n",
    "    return r2.compute()\n",
    "\n",
    "model1.to(\"cpu\")\n",
    "model1.eval()\n",
    "with torch.no_grad():\n",
    "    train_r2 = compute_r2_for(train)\n",
    "    print(f\"R^2 for training data: {train_r2}\")\n",
    "    test_r2 = compute_r2_for(test)\n",
    "    print(f\"R^2 for testing data: {test_r2}\")"
   ]
  },
  {
   "cell_type": "markdown",
   "metadata": {},
   "source": [
    "## Accuracy"
   ]
  },
  {
   "cell_type": "code",
   "execution_count": null,
   "metadata": {},
   "outputs": [],
   "source": [
    "from torcheval.metrics import MeanSquaredError\n",
    "\n",
    "def compute_mse_for(dataset):\n",
    "    mse = MeanSquaredError()\n",
    "    train_data = DataLoader(dataset, batch_size=256, shuffle=True)\n",
    "    for _, data in enumerate(train_data):\n",
    "        inputs, goal = data[0], data[1]\n",
    "        outputs = model1(inputs)\n",
    "        mse.update(outputs, goal)\n",
    "    return mse.compute()\n",
    "\n",
    "model1.to(\"cpu\")\n",
    "model1.eval()\n",
    "with torch.no_grad():\n",
    "    train_mse = compute_mse_for(train)\n",
    "    print(f\"MSE for training data: {train_mse}\")\n",
    "    test_mse = compute_mse_for(test)\n",
    "    print(f\"MSE for testing data: {test_mse}\")"
   ]
  },
  {
   "cell_type": "markdown",
   "metadata": {},
   "source": [
    "## Error distribution"
   ]
  },
  {
   "cell_type": "code",
   "execution_count": null,
   "metadata": {},
   "outputs": [],
   "source": [
    "from matplotlib import pyplot as plt\n",
    "import numpy as np\n",
    "import pandas as pd\n",
    "\n",
    "def compute_errors_for(dataset):\n",
    "    train_data = DataLoader(dataset, batch_size=256, shuffle=True)\n",
    "    errors = []\n",
    "    for _, data in enumerate(train_data):\n",
    "        inputs, goal = data[0], data[1]\n",
    "        outputs = np.array(model1(inputs))\n",
    "        errors.append(np.abs((outputs - np.array(goal)).mean(axis=1)))\n",
    "    return np.concatenate(errors)\n",
    "\n",
    "model1.to(\"cpu\")\n",
    "model1.eval()\n",
    "with torch.no_grad():\n",
    "    train_errors = compute_errors_for(train)\n",
    "    test_errors = compute_errors_for(test)"
   ]
  },
  {
   "cell_type": "code",
   "execution_count": null,
   "metadata": {},
   "outputs": [],
   "source": [
    "plt.hist(train_errors, bins=100, label=\"train\")\n",
    "plt.show()"
   ]
  },
  {
   "cell_type": "code",
   "execution_count": null,
   "metadata": {},
   "outputs": [],
   "source": [
    "plt.hist(test_errors, bins=100, label=\"test\")\n",
    "plt.show()"
   ]
  },
  {
   "cell_type": "code",
   "execution_count": null,
   "metadata": {},
   "outputs": [],
   "source": [
    "print(\"Details of train errors:\")\n",
    "train_errors_df = pd.DataFrame(train_errors)\n",
    "train_errors_df.describe()"
   ]
  },
  {
   "cell_type": "code",
   "execution_count": null,
   "metadata": {},
   "outputs": [],
   "source": [
    "print(\"Details of test errors:\")\n",
    "test_errors_df = pd.DataFrame(test_errors)\n",
    "test_errors_df.describe()"
   ]
  },
  {
   "cell_type": "markdown",
   "metadata": {},
   "source": [
    "## Classification Evaluation\n",
    "\n",
    "This was made for testing to compare this to the direct classification model to debug performance issues."
   ]
  },
  {
   "cell_type": "code",
   "execution_count": null,
   "metadata": {},
   "outputs": [],
   "source": [
    "right = 0\n",
    "wrong = 0\n",
    "\n",
    "\n",
    "def increment_category_values(predicted, target):\n",
    "    global right, wrong\n",
    "\n",
    "    def get_slot(mean):\n",
    "        boundries = [1.5, 2.68]\n",
    "        if mean < (boundries[0] - iri.mean_iri) / iri.iri_range:\n",
    "            return 0\n",
    "        elif mean < (boundries[1] - iri.mean_iri) / iri.iri_range:\n",
    "            return 1\n",
    "        else:\n",
    "            return 2\n",
    "        \n",
    "    if get_slot(predicted.mean()) == get_slot(target.mean()):\n",
    "        right += 1\n",
    "    else:\n",
    "        wrong += 1\n",
    "\n",
    "def evaluate_categorical_accuracy(dataset):\n",
    "    global right, wrong\n",
    "    right = 0\n",
    "    wrong = 0\n",
    "    train_data = DataLoader(dataset, batch_size=256, shuffle=True)\n",
    "    for _, data in enumerate(train_data):\n",
    "        inputs, goal = data[0], data[1]\n",
    "        outputs = model1(inputs)\n",
    "        for pred, target in zip(outputs, goal):\n",
    "            increment_category_values(pred, target)\n",
    "    return right / (right + wrong)\n",
    "\n",
    "device = device = torch.device(\"cuda\")\n",
    "model1.eval()\n",
    "with torch.no_grad():\n",
    "    train_classification_accuracy = evaluate_categorical_accuracy(train)\n",
    "    print(f'Classification Accuracy of the network on the train data: {100 * train_classification_accuracy}%')\n",
    "    train_classification_accuracy = evaluate_categorical_accuracy(test)\n",
    "    print(f'Classification Accuracy of the network on the test data: {100 * train_classification_accuracy}%')"
   ]
  }
 ],
 "metadata": {
  "kernelspec": {
   "display_name": "Python 3",
   "language": "python",
   "name": "python3"
  },
  "language_info": {
   "codemirror_mode": {
    "name": "ipython",
    "version": 3
   },
   "file_extension": ".py",
   "mimetype": "text/x-python",
   "name": "python",
   "nbconvert_exporter": "python",
   "pygments_lexer": "ipython3",
   "version": "3.11.3"
  }
 },
 "nbformat": 4,
 "nbformat_minor": 2
}
