{
 "cells": [
  {
   "cell_type": "code",
   "execution_count": null,
   "id": "fcbcbb29",
   "metadata": {},
   "outputs": [],
   "source": [
    "import pandas as pd\n",
    "import numpy as np\n",
    "import matplotlib.pyplot as plt\n",
    "from sklearn.model_selection import train_test_split\n",
    "from sklearn.preprocessing import StandardScaler\n",
    "from sklearn.neural_network import MLPRegressor\n",
    "import seaborn as sns\n",
    "from census import Census\n",
    "import statsmodels.formula.api as smf\n",
    "import statsmodels.api as sm\n",
    "import scipy.stats as sps\n",
    "from sklearn.preprocessing import FunctionTransformer, OneHotEncoder, StandardScaler, PolynomialFeatures\n",
    "from sklearn.compose import ColumnTransformer\n",
    "from sklearn.pipeline import Pipeline\n",
    "from sklearn.linear_model import LinearRegression, ElasticNetCV,LogisticRegression\n",
    "from sklearn.model_selection import train_test_split,GridSearchCV\n",
    "from sklearn.metrics import mean_squared_error,accuracy_score,precision_score,classification_report,confusion_matrix\n",
    "from sklearn.ensemble import RandomForestClassifier\n",
    "from sklearn.datasets import make_classification\n",
    "from sklearn.impute import SimpleImputer\n",
    "import sklearn\n",
    "import warnings\n",
    "warnings.filterwarnings(\"ignore\")\n",
    "from sklearn.metrics import accuracy_score, precision_score, recall_score, f1_score"
   ]
  },
  {
   "cell_type": "markdown",
   "id": "d0cd7158",
   "metadata": {},
   "source": [
    "## Preprocessing"
   ]
  },
  {
   "cell_type": "code",
   "execution_count": null,
   "id": "d9f748c9",
   "metadata": {},
   "outputs": [],
   "source": [
    "df = pd.read_csv('../training_data/final_data.csv')\n",
    "df"
   ]
  },
  {
   "cell_type": "code",
   "execution_count": null,
   "id": "1b0e9b74",
   "metadata": {},
   "outputs": [],
   "source": [
    "df = pd.read_csv('../training_data/final_data.csv')\n",
    "df['IRI_LEFT_WHEEL_PATH'].value_counts()\n",
    "\n",
    "df['Mean_IRI'] = 0.5*(df['IRI_LEFT_WHEEL_PATH']+df['IRI_RIGHT_WHEEL_PATH'])\n",
    "\n",
    "df['Mean_IRI'].hist(bins=50)"
   ]
  },
  {
   "cell_type": "code",
   "execution_count": null,
   "id": "537c23f2",
   "metadata": {},
   "outputs": [],
   "source": [
    "df.loc[df['Mean_IRI'] <= 1.50, 'IRI_condition'] = 2#'good'\n",
    "df.loc[(df['Mean_IRI'] > 1.50) & (df['Mean_IRI'] <= 2.68), 'IRI_condition'] = 1#'acceptable'\n",
    "df.loc[df['Mean_IRI'] > 2.68, 'IRI_condition'] = 0#'poor'\n",
    "df['IRI_condition'].hist()"
   ]
  },
  {
   "cell_type": "code",
   "execution_count": null,
   "id": "7fc02868",
   "metadata": {},
   "outputs": [],
   "source": [
    "df"
   ]
  },
  {
   "cell_type": "code",
   "execution_count": null,
   "id": "c79e21fe",
   "metadata": {},
   "outputs": [],
   "source": [
    "df['VISIT_DATE'] = pd.to_datetime(df['VISIT_DATE'])\n",
    "df['year'] = df['VISIT_DATE'].dt.strftime('%Y')\n",
    "df['construction_time'] = 2022 - df['year'].astype(int)\n",
    "df = df[['STATE_CODE','AADT_ALL_VEHIC','MEPDG_TRANS_CRACK_LENGTH_AC','construction_time','Mean_IRI']]\n",
    "df"
   ]
  },
  {
   "cell_type": "code",
   "execution_count": null,
   "id": "20863848",
   "metadata": {},
   "outputs": [],
   "source": [
    "# from sklearn.preprocessing import MinMaxScaler\n",
    "# scaler = MinMaxScaler()\n",
    "# AADT = df['AADT_ALL_VEHIC'].values.reshape(-1, 1)\n",
    "# AADT = scaler.fit_transform(AADT)\n",
    "# df['AADT_ALL_VEHIC'] = AADT\n",
    "\n",
    "# df"
   ]
  },
  {
   "cell_type": "markdown",
   "id": "6dd72d39",
   "metadata": {},
   "source": []
  },
  {
   "cell_type": "code",
   "execution_count": null,
   "id": "3666d9f1",
   "metadata": {},
   "outputs": [],
   "source": [
    "df.to_csv('preprocessed_data.csv',index='False')"
   ]
  },
  {
   "cell_type": "code",
   "execution_count": null,
   "id": "7ef8747c",
   "metadata": {},
   "outputs": [],
   "source": []
  },
  {
   "cell_type": "code",
   "execution_count": null,
   "id": "39adb7c2",
   "metadata": {},
   "outputs": [],
   "source": []
  }
 ],
 "metadata": {
  "kernelspec": {
   "display_name": "Python 3",
   "language": "python",
   "name": "python3"
  },
  "language_info": {
   "codemirror_mode": {
    "name": "ipython",
    "version": 3
   },
   "file_extension": ".py",
   "mimetype": "text/x-python",
   "name": "python",
   "nbconvert_exporter": "python",
   "pygments_lexer": "ipython3",
   "version": "3.8.8"
  }
 },
 "nbformat": 4,
 "nbformat_minor": 5
}
