{
 "cells": [
  {
   "cell_type": "code",
   "execution_count": null,
   "id": "fcbcbb29",
   "metadata": {},
   "outputs": [],
   "source": [
    "import pandas as pd\n",
    "import numpy as np\n",
    "import matplotlib.pyplot as plt\n",
    "from sklearn.model_selection import train_test_split\n",
    "from sklearn.preprocessing import StandardScaler\n",
    "from sklearn.preprocessing import MinMaxScaler\n",
    "from sklearn.neural_network import MLPRegressor\n",
    "import seaborn as sns\n",
    "from census import Census\n",
    "import statsmodels.formula.api as smf\n",
    "import statsmodels.api as sm\n",
    "import scipy.stats as sps\n",
    "from sklearn.preprocessing import FunctionTransformer, OneHotEncoder, StandardScaler, PolynomialFeatures\n",
    "from sklearn.compose import ColumnTransformer\n",
    "from sklearn.pipeline import Pipeline\n",
    "from sklearn.linear_model import LinearRegression, ElasticNetCV,LogisticRegression\n",
    "from sklearn.model_selection import train_test_split,GridSearchCV\n",
    "from sklearn.metrics import mean_squared_error,accuracy_score,precision_score,classification_report,confusion_matrix\n",
    "from sklearn.ensemble import RandomForestClassifier\n",
    "from sklearn.datasets import make_classification\n",
    "from sklearn.impute import SimpleImputer\n",
    "import sklearn\n",
    "import warnings\n",
    "warnings.filterwarnings(\"ignore\")\n",
    "from sklearn.metrics import accuracy_score, precision_score, recall_score, f1_score"
   ]
  },
  {
   "cell_type": "code",
   "execution_count": null,
   "id": "4109998b",
   "metadata": {},
   "outputs": [],
   "source": [
    "df = pd.read_csv('preprocessed_data.csv')\n",
    "df"
   ]
  },
  {
   "cell_type": "markdown",
   "id": "f0364015",
   "metadata": {},
   "source": [
    "## 🌵Each time you run these models, change the number in random_state. \n",
    "\n",
    "### Run three times totally, remember to record these results in the google sheets."
   ]
  },
  {
   "cell_type": "code",
   "execution_count": null,
   "id": "e65a3db2",
   "metadata": {},
   "outputs": [],
   "source": [
    "train, test = train_test_split(df, test_size=0.25, random_state=12345) #<--change"
   ]
  },
  {
   "cell_type": "code",
   "execution_count": null,
   "id": "8478d261",
   "metadata": {},
   "outputs": [],
   "source": [
    "feat_cols = ['AADT_ALL_VEHIC','construction_time', 'MEPDG_TRANS_CRACK_LENGTH_AC']\n",
    "out_col = 'Mean_IRI'\n",
    "train_x = train[feat_cols]\n",
    "train_y = train[out_col]\n",
    "test_x = test[feat_cols]\n",
    "test_y = test[out_col]"
   ]
  },
  {
   "cell_type": "markdown",
   "id": "d4e65927",
   "metadata": {},
   "source": [
    "### regression\n",
    "\n",
    "1. Random Forest"
   ]
  },
  {
   "cell_type": "code",
   "execution_count": null,
   "id": "7f0bebc9",
   "metadata": {},
   "outputs": [],
   "source": [
    "from sklearn.ensemble import RandomForestRegressor\n",
    "from sklearn.metrics import mean_squared_error\n",
    "from sklearn.metrics import r2_score\n",
    "import time\n",
    "\n",
    "rm_pipe = Pipeline([\n",
    "    ('columns', ColumnTransformer([\n",
    "        ('AADT',MinMaxScaler(),['AADT_ALL_VEHIC']),\n",
    "        ('Crack',MinMaxScaler(),['MEPDG_TRANS_CRACK_LENGTH_AC']),\n",
    "        ('time',MinMaxScaler(),['construction_time'])\n",
    "    ])),\n",
    "    ('model', RandomForestRegressor(max_depth=5, random_state=0,n_estimators=100))\n",
    "])\n",
    "start_time = time.time()\n",
    "rm_pipe.fit(train_x,train_y)\n",
    "end_time = time.time()\n",
    "print('training-time:',end_time - start_time)\n",
    "print('train-MSE:',mean_squared_error(train_y,rm_pipe.predict(train_x)))\n",
    "print('train-r2:',r2_score(train_y,rm_pipe.predict(train_x)))\n",
    "print('test-MSE:',mean_squared_error(test_y,rm_pipe.predict(test_x)))\n",
    "print('test-r2:',r2_score(test_y,rm_pipe.predict(test_x)))\n",
    "\n",
    "start_time1 = time.time()\n",
    "rm_pipe.predict(test_x)\n",
    "end_time1 = time.time()\n",
    "\n",
    "print('test-time:',end_time1 - start_time1)"
   ]
  },
  {
   "cell_type": "markdown",
   "id": "51c0c45f",
   "metadata": {},
   "source": [
    "2. KNN"
   ]
  },
  {
   "cell_type": "code",
   "execution_count": null,
   "id": "69f38cbf",
   "metadata": {},
   "outputs": [],
   "source": [
    "from sklearn.neighbors import KNeighborsRegressor\n",
    "knn_pipe = Pipeline([\n",
    "    ('columns', ColumnTransformer([\n",
    "        ('AADT',MinMaxScaler(),['AADT_ALL_VEHIC']),\n",
    "        ('Crack',MinMaxScaler(),['MEPDG_TRANS_CRACK_LENGTH_AC']),\n",
    "        ('time',MinMaxScaler(),['construction_time'])\n",
    "    ])),\n",
    "    ('model', KNeighborsRegressor(n_neighbors=5))\n",
    "])\n",
    "start_time = time.time()\n",
    "knn_pipe.fit(train_x,train_y)\n",
    "end_time = time.time()\n",
    "print('training-time:',end_time - start_time)\n",
    "print('train-MSE:',mean_squared_error(train_y,knn_pipe.predict(train_x)))\n",
    "print('train-r2:',r2_score(train_y,knn_pipe.predict(train_x)))\n",
    "print('test-MSE:',mean_squared_error(test_y,knn_pipe.predict(test_x)))\n",
    "print('test-r2:',r2_score(test_y,knn_pipe.predict(test_x)))\n",
    "\n",
    "start_time1 = time.time()\n",
    "knn_pipe.predict(test_x)\n",
    "end_time1 = time.time()\n",
    "\n",
    "print('test-time:',end_time1 - start_time1)"
   ]
  },
  {
   "cell_type": "code",
   "execution_count": null,
   "id": "dcf2fe92",
   "metadata": {},
   "outputs": [],
   "source": [
    "from sklearn.linear_model import LinearRegression\n",
    "lr_pipe = Pipeline([\n",
    "    ('columns', ColumnTransformer([\n",
    "        ('AADT',MinMaxScaler(),['AADT_ALL_VEHIC']),\n",
    "        ('Crack',MinMaxScaler(),['MEPDG_TRANS_CRACK_LENGTH_AC']),\n",
    "        ('time',MinMaxScaler(),['construction_time'])\n",
    "    ])),\n",
    "    ('model', LinearRegression())\n",
    "])\n",
    "start_time = time.time()\n",
    "lr_pipe.fit(train_x,train_y)\n",
    "end_time = time.time()\n",
    "print('training-time:',end_time - start_time)\n",
    "print('train-MSE:',mean_squared_error(train_y,lr_pipe.predict(train_x)))\n",
    "print('train-r2:',r2_score(train_y,lr_pipe.predict(train_x)))\n",
    "print('test-MSE:',mean_squared_error(test_y,lr_pipe.predict(test_x)))\n",
    "print('test-r2:',r2_score(test_y,lr_pipe.predict(test_x)))\n",
    "\n",
    "start_time1 = time.time()\n",
    "lr_pipe.predict(test_x)\n",
    "end_time1 = time.time()\n",
    "\n",
    "print('test-time:',end_time1 - start_time1)"
   ]
  },
  {
   "cell_type": "code",
   "execution_count": null,
   "id": "93726835",
   "metadata": {},
   "outputs": [],
   "source": [
    "from sklearn.svm import SVR\n",
    "svr_pipe = Pipeline([\n",
    "    ('columns', ColumnTransformer([\n",
    "        ('AADT',MinMaxScaler(),['AADT_ALL_VEHIC']),\n",
    "        ('Crack',MinMaxScaler(),['MEPDG_TRANS_CRACK_LENGTH_AC']),\n",
    "        ('time',MinMaxScaler(),['construction_time'])\n",
    "    ])),\n",
    "    ('model', SVR(kernel='rbf'))\n",
    "])\n",
    "start_time = time.time()\n",
    "svr_pipe.fit(train_x,train_y)\n",
    "end_time = time.time()\n",
    "print('training-time:',end_time - start_time)\n",
    "print('train-MSE:',mean_squared_error(train_y,svr_pipe.predict(train_x)))\n",
    "print('train-r2:',r2_score(train_y,svr_pipe.predict(train_x)))\n",
    "print('test-MSE:',mean_squared_error(test_y,svr_pipe.predict(test_x)))\n",
    "print('test-r2:',r2_score(test_y,svr_pipe.predict(test_x)))\n",
    "\n",
    "start_time1 = time.time()\n",
    "svr_pipe.predict(test_x)\n",
    "end_time1 = time.time()\n",
    "\n",
    "print('test-time:',end_time1 - start_time1)"
   ]
  },
  {
   "cell_type": "code",
   "execution_count": null,
   "id": "15ee995a",
   "metadata": {},
   "outputs": [],
   "source": [
    "# !pip install xgboost"
   ]
  },
  {
   "cell_type": "code",
   "execution_count": null,
   "id": "79828561",
   "metadata": {},
   "outputs": [],
   "source": [
    "import xgboost as xgb\n",
    "xgb_pipe = Pipeline([\n",
    "    ('columns', ColumnTransformer([\n",
    "        ('AADT',MinMaxScaler(),['AADT_ALL_VEHIC']),\n",
    "        ('Crack',MinMaxScaler(),['MEPDG_TRANS_CRACK_LENGTH_AC']),\n",
    "        ('time',MinMaxScaler(),['construction_time'])\n",
    "    ])),\n",
    "    ('model', xgb.XGBRegressor())\n",
    "])\n",
    "start_time = time.time()\n",
    "xgb_pipe.fit(train_x,train_y)\n",
    "end_time = time.time()\n",
    "print('training-time:',end_time - start_time)\n",
    "print('train-MSE:',mean_squared_error(train_y,xgb_pipe.predict(train_x)))\n",
    "print('train-r2:',r2_score(train_y,xgb_pipe.predict(train_x)))\n",
    "print('test-MSE:',mean_squared_error(test_y,xgb_pipe.predict(test_x)))\n",
    "print('test-r2:',r2_score(test_y,xgb_pipe.predict(test_x)))\n",
    "\n",
    "start_time1 = time.time()\n",
    "xgb_pipe.predict(test_x)\n",
    "end_time1 = time.time()\n",
    "\n",
    "print('test-time:',end_time1 - start_time1)"
   ]
  },
  {
   "cell_type": "code",
   "execution_count": null,
   "id": "d2bebce8",
   "metadata": {},
   "outputs": [],
   "source": []
  }
 ],
 "metadata": {
  "kernelspec": {
   "display_name": "Python 3",
   "language": "python",
   "name": "python3"
  },
  "language_info": {
   "codemirror_mode": {
    "name": "ipython",
    "version": 3
   },
   "file_extension": ".py",
   "mimetype": "text/x-python",
   "name": "python",
   "nbconvert_exporter": "python",
   "pygments_lexer": "ipython3",
   "version": "3.8.8"
  }
 },
 "nbformat": 4,
 "nbformat_minor": 5
}
