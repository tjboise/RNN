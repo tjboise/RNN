{
 "cells": [
  {
   "cell_type": "code",
   "execution_count": 40,
   "id": "fcbcbb29",
   "metadata": {},
   "outputs": [],
   "source": [
    "import pandas as pd\n",
    "import numpy as np\n",
    "import matplotlib.pyplot as plt\n",
    "from sklearn.model_selection import train_test_split\n",
    "from sklearn.preprocessing import StandardScaler\n",
    "from sklearn.preprocessing import MinMaxScaler\n",
    "from sklearn.neural_network import MLPRegressor\n",
    "import seaborn as sns\n",
    "from census import Census\n",
    "import statsmodels.formula.api as smf\n",
    "import statsmodels.api as sm\n",
    "import scipy.stats as sps\n",
    "from sklearn.preprocessing import FunctionTransformer, OneHotEncoder, StandardScaler, PolynomialFeatures\n",
    "from sklearn.compose import ColumnTransformer\n",
    "from sklearn.pipeline import Pipeline\n",
    "from sklearn.linear_model import LinearRegression, ElasticNetCV,LogisticRegression\n",
    "from sklearn.model_selection import train_test_split,GridSearchCV\n",
    "from sklearn.metrics import mean_squared_error,accuracy_score,precision_score,classification_report,confusion_matrix\n",
    "from sklearn.ensemble import RandomForestClassifier\n",
    "from sklearn.datasets import make_classification\n",
    "from sklearn.impute import SimpleImputer\n",
    "import sklearn\n",
    "import warnings\n",
    "warnings.filterwarnings(\"ignore\")\n",
    "from sklearn.metrics import accuracy_score, precision_score, recall_score, f1_score"
   ]
  },
  {
   "cell_type": "code",
   "execution_count": 41,
   "id": "4109998b",
   "metadata": {},
   "outputs": [
    {
     "data": {
      "text/html": [
       "<div>\n",
       "<style scoped>\n",
       "    .dataframe tbody tr th:only-of-type {\n",
       "        vertical-align: middle;\n",
       "    }\n",
       "\n",
       "    .dataframe tbody tr th {\n",
       "        vertical-align: top;\n",
       "    }\n",
       "\n",
       "    .dataframe thead th {\n",
       "        text-align: right;\n",
       "    }\n",
       "</style>\n",
       "<table border=\"1\" class=\"dataframe\">\n",
       "  <thead>\n",
       "    <tr style=\"text-align: right;\">\n",
       "      <th></th>\n",
       "      <th>Unnamed: 0</th>\n",
       "      <th>STATE_CODE</th>\n",
       "      <th>AADT_ALL_VEHIC</th>\n",
       "      <th>MEPDG_TRANS_CRACK_LENGTH_AC</th>\n",
       "      <th>construction_time</th>\n",
       "      <th>Mean_IRI</th>\n",
       "    </tr>\n",
       "  </thead>\n",
       "  <tbody>\n",
       "    <tr>\n",
       "      <th>0</th>\n",
       "      <td>0</td>\n",
       "      <td>48</td>\n",
       "      <td>-1.000000</td>\n",
       "      <td>12.881818</td>\n",
       "      <td>32</td>\n",
       "      <td>0.6737</td>\n",
       "    </tr>\n",
       "    <tr>\n",
       "      <th>1</th>\n",
       "      <td>1</td>\n",
       "      <td>48</td>\n",
       "      <td>-1.000000</td>\n",
       "      <td>12.881818</td>\n",
       "      <td>30</td>\n",
       "      <td>0.7103</td>\n",
       "    </tr>\n",
       "    <tr>\n",
       "      <th>2</th>\n",
       "      <td>2</td>\n",
       "      <td>48</td>\n",
       "      <td>-1.000000</td>\n",
       "      <td>12.881818</td>\n",
       "      <td>29</td>\n",
       "      <td>0.7205</td>\n",
       "    </tr>\n",
       "    <tr>\n",
       "      <th>3</th>\n",
       "      <td>3</td>\n",
       "      <td>48</td>\n",
       "      <td>-1.000000</td>\n",
       "      <td>12.881818</td>\n",
       "      <td>27</td>\n",
       "      <td>0.7465</td>\n",
       "    </tr>\n",
       "    <tr>\n",
       "      <th>4</th>\n",
       "      <td>4</td>\n",
       "      <td>48</td>\n",
       "      <td>-1.000000</td>\n",
       "      <td>12.881818</td>\n",
       "      <td>25</td>\n",
       "      <td>0.7554</td>\n",
       "    </tr>\n",
       "    <tr>\n",
       "      <th>...</th>\n",
       "      <td>...</td>\n",
       "      <td>...</td>\n",
       "      <td>...</td>\n",
       "      <td>...</td>\n",
       "      <td>...</td>\n",
       "      <td>...</td>\n",
       "    </tr>\n",
       "    <tr>\n",
       "      <th>29765</th>\n",
       "      <td>29765</td>\n",
       "      <td>48</td>\n",
       "      <td>1158.809524</td>\n",
       "      <td>-1.000000</td>\n",
       "      <td>27</td>\n",
       "      <td>1.1858</td>\n",
       "    </tr>\n",
       "    <tr>\n",
       "      <th>29766</th>\n",
       "      <td>29766</td>\n",
       "      <td>48</td>\n",
       "      <td>1158.809524</td>\n",
       "      <td>-1.000000</td>\n",
       "      <td>21</td>\n",
       "      <td>1.1085</td>\n",
       "    </tr>\n",
       "    <tr>\n",
       "      <th>29767</th>\n",
       "      <td>29767</td>\n",
       "      <td>48</td>\n",
       "      <td>1158.809524</td>\n",
       "      <td>2.183333</td>\n",
       "      <td>32</td>\n",
       "      <td>0.9407</td>\n",
       "    </tr>\n",
       "    <tr>\n",
       "      <th>29768</th>\n",
       "      <td>29768</td>\n",
       "      <td>48</td>\n",
       "      <td>1158.809524</td>\n",
       "      <td>2.183333</td>\n",
       "      <td>27</td>\n",
       "      <td>1.1369</td>\n",
       "    </tr>\n",
       "    <tr>\n",
       "      <th>29769</th>\n",
       "      <td>29769</td>\n",
       "      <td>48</td>\n",
       "      <td>1158.809524</td>\n",
       "      <td>2.183333</td>\n",
       "      <td>21</td>\n",
       "      <td>1.0224</td>\n",
       "    </tr>\n",
       "  </tbody>\n",
       "</table>\n",
       "<p>29770 rows × 6 columns</p>\n",
       "</div>"
      ],
      "text/plain": [
       "       Unnamed: 0  STATE_CODE  AADT_ALL_VEHIC  MEPDG_TRANS_CRACK_LENGTH_AC  \\\n",
       "0               0          48       -1.000000                    12.881818   \n",
       "1               1          48       -1.000000                    12.881818   \n",
       "2               2          48       -1.000000                    12.881818   \n",
       "3               3          48       -1.000000                    12.881818   \n",
       "4               4          48       -1.000000                    12.881818   \n",
       "...           ...         ...             ...                          ...   \n",
       "29765       29765          48     1158.809524                    -1.000000   \n",
       "29766       29766          48     1158.809524                    -1.000000   \n",
       "29767       29767          48     1158.809524                     2.183333   \n",
       "29768       29768          48     1158.809524                     2.183333   \n",
       "29769       29769          48     1158.809524                     2.183333   \n",
       "\n",
       "       construction_time  Mean_IRI  \n",
       "0                     32    0.6737  \n",
       "1                     30    0.7103  \n",
       "2                     29    0.7205  \n",
       "3                     27    0.7465  \n",
       "4                     25    0.7554  \n",
       "...                  ...       ...  \n",
       "29765                 27    1.1858  \n",
       "29766                 21    1.1085  \n",
       "29767                 32    0.9407  \n",
       "29768                 27    1.1369  \n",
       "29769                 21    1.0224  \n",
       "\n",
       "[29770 rows x 6 columns]"
      ]
     },
     "execution_count": 41,
     "metadata": {},
     "output_type": "execute_result"
    }
   ],
   "source": [
    "df = pd.read_csv('preprocessed_data.csv')\n",
    "df"
   ]
  },
  {
   "cell_type": "markdown",
   "id": "f0364015",
   "metadata": {},
   "source": [
    "## 🌵Each time you run these models, change the number in random_state. \n",
    "\n",
    "### Run three times totally, remember to record these results in the google sheets."
   ]
  },
  {
   "cell_type": "code",
   "execution_count": 42,
   "id": "e65a3db2",
   "metadata": {},
   "outputs": [],
   "source": [
    "train, test = train_test_split(df, test_size=0.25, random_state=12345) #<--change"
   ]
  },
  {
   "cell_type": "code",
   "execution_count": 43,
   "id": "8478d261",
   "metadata": {},
   "outputs": [],
   "source": [
    "feat_cols = ['AADT_ALL_VEHIC','construction_time', 'MEPDG_TRANS_CRACK_LENGTH_AC']\n",
    "out_col = 'Mean_IRI'\n",
    "train_x = train[feat_cols]\n",
    "train_y = train[out_col]\n",
    "test_x = test[feat_cols]\n",
    "test_y = test[out_col]"
   ]
  },
  {
   "cell_type": "markdown",
   "id": "d4e65927",
   "metadata": {},
   "source": [
    "### regression\n",
    "\n",
    "1. Random Forest"
   ]
  },
  {
   "cell_type": "code",
   "execution_count": 44,
   "id": "7f0bebc9",
   "metadata": {},
   "outputs": [
    {
     "name": "stdout",
     "output_type": "stream",
     "text": [
      "training-time: 0.7707369327545166\n",
      "train-MSE: 0.308414911153313\n",
      "train-r2: 0.21081367724425382\n",
      "test-MSE: 0.31989311552196387\n",
      "test-r2: 0.18674708263513595\n",
      "test-time: 0.04459381103515625\n"
     ]
    }
   ],
   "source": [
    "from sklearn.ensemble import RandomForestRegressor\n",
    "from sklearn.metrics import mean_squared_error\n",
    "from sklearn.metrics import r2_score\n",
    "import time\n",
    "\n",
    "rm_pipe = Pipeline([\n",
    "    ('columns', ColumnTransformer([\n",
    "        ('AADT',MinMaxScaler(),['AADT_ALL_VEHIC']),\n",
    "        ('Crack',MinMaxScaler(),['MEPDG_TRANS_CRACK_LENGTH_AC']),\n",
    "        ('time',MinMaxScaler(),['construction_time'])\n",
    "    ])),\n",
    "    ('model', RandomForestRegressor(max_depth=5, random_state=0,n_estimators=100))\n",
    "])\n",
    "start_time = time.time()\n",
    "rm_pipe.fit(train_x,train_y)\n",
    "end_time = time.time()\n",
    "print('training-time:',end_time - start_time)\n",
    "print('train-MSE:',mean_squared_error(train_y,rm_pipe.predict(train_x)))\n",
    "print('train-r2:',r2_score(train_y,rm_pipe.predict(train_x)))\n",
    "print('test-MSE:',mean_squared_error(test_y,rm_pipe.predict(test_x)))\n",
    "print('test-r2:',r2_score(test_y,rm_pipe.predict(test_x)))\n",
    "\n",
    "start_time1 = time.time()\n",
    "rm_pipe.predict(test_x)\n",
    "end_time1 = time.time()\n",
    "\n",
    "print('test-time:',end_time1 - start_time1)"
   ]
  },
  {
   "cell_type": "markdown",
   "id": "51c0c45f",
   "metadata": {},
   "source": [
    "2. KNN"
   ]
  },
  {
   "cell_type": "code",
   "execution_count": 45,
   "id": "69f38cbf",
   "metadata": {},
   "outputs": [
    {
     "name": "stdout",
     "output_type": "stream",
     "text": [
      "training-time: 0.02603912353515625\n",
      "train-MSE: 0.2429903430626218\n",
      "train-r2: 0.3782250845471554\n",
      "test-MSE: 0.3493942001052396\n",
      "test-r2: 0.11174752203618554\n",
      "test-time: 0.03073406219482422\n"
     ]
    }
   ],
   "source": [
    "from sklearn.neighbors import KNeighborsRegressor\n",
    "knn_pipe = Pipeline([\n",
    "    ('columns', ColumnTransformer([\n",
    "        ('AADT',MinMaxScaler(),['AADT_ALL_VEHIC']),\n",
    "        ('Crack',MinMaxScaler(),['MEPDG_TRANS_CRACK_LENGTH_AC']),\n",
    "        ('time',MinMaxScaler(),['construction_time'])\n",
    "    ])),\n",
    "    ('model', KNeighborsRegressor(n_neighbors=5))\n",
    "])\n",
    "start_time = time.time()\n",
    "knn_pipe.fit(train_x,train_y)\n",
    "end_time = time.time()\n",
    "print('training-time:',end_time - start_time)\n",
    "print('train-MSE:',mean_squared_error(train_y,knn_pipe.predict(train_x)))\n",
    "print('train-r2:',r2_score(train_y,knn_pipe.predict(train_x)))\n",
    "print('test-MSE:',mean_squared_error(test_y,knn_pipe.predict(test_x)))\n",
    "print('test-r2:',r2_score(test_y,knn_pipe.predict(test_x)))\n",
    "\n",
    "start_time1 = time.time()\n",
    "knn_pipe.predict(test_x)\n",
    "end_time1 = time.time()\n",
    "\n",
    "print('test-time:',end_time1 - start_time1)"
   ]
  },
  {
   "cell_type": "code",
   "execution_count": 46,
   "id": "dcf2fe92",
   "metadata": {},
   "outputs": [
    {
     "name": "stdout",
     "output_type": "stream",
     "text": [
      "training-time: 0.03439211845397949\n",
      "train-MSE: 0.38459294554441303\n",
      "train-r2: 0.015885803585162117\n",
      "test-MSE: 0.388733760880926\n",
      "test-r2: 0.011735952495287805\n",
      "test-time: 0.006142377853393555\n"
     ]
    }
   ],
   "source": [
    "from sklearn.linear_model import LinearRegression\n",
    "lr_pipe = Pipeline([\n",
    "    ('columns', ColumnTransformer([\n",
    "        ('AADT',MinMaxScaler(),['AADT_ALL_VEHIC']),\n",
    "        ('Crack',MinMaxScaler(),['MEPDG_TRANS_CRACK_LENGTH_AC']),\n",
    "        ('time',MinMaxScaler(),['construction_time'])\n",
    "    ])),\n",
    "    ('model', LinearRegression())\n",
    "])\n",
    "start_time = time.time()\n",
    "lr_pipe.fit(train_x,train_y)\n",
    "end_time = time.time()\n",
    "print('training-time:',end_time - start_time)\n",
    "print('train-MSE:',mean_squared_error(train_y,lr_pipe.predict(train_x)))\n",
    "print('train-r2:',r2_score(train_y,lr_pipe.predict(train_x)))\n",
    "print('test-MSE:',mean_squared_error(test_y,lr_pipe.predict(test_x)))\n",
    "print('test-r2:',r2_score(test_y,lr_pipe.predict(test_x)))\n",
    "\n",
    "start_time1 = time.time()\n",
    "lr_pipe.predict(test_x)\n",
    "end_time1 = time.time()\n",
    "\n",
    "print('test-time:',end_time1 - start_time1)"
   ]
  },
  {
   "cell_type": "code",
   "execution_count": 47,
   "id": "93726835",
   "metadata": {},
   "outputs": [
    {
     "name": "stdout",
     "output_type": "stream",
     "text": [
      "training-time: 21.611921787261963\n",
      "train-MSE: 0.36900014422960004\n",
      "train-r2: 0.05578538394293897\n",
      "test-MSE: 0.37683480689525606\n",
      "test-r2: 0.041986241022587745\n",
      "test-time: 11.078541040420532\n"
     ]
    }
   ],
   "source": [
    "from sklearn.svm import SVR\n",
    "svr_pipe = Pipeline([\n",
    "    ('columns', ColumnTransformer([\n",
    "        ('AADT',MinMaxScaler(),['AADT_ALL_VEHIC']),\n",
    "        ('Crack',MinMaxScaler(),['MEPDG_TRANS_CRACK_LENGTH_AC']),\n",
    "        ('time',MinMaxScaler(),['construction_time'])\n",
    "    ])),\n",
    "    ('model', SVR(kernel='rbf'))\n",
    "])\n",
    "start_time = time.time()\n",
    "svr_pipe.fit(train_x,train_y)\n",
    "end_time = time.time()\n",
    "print('training-time:',end_time - start_time)\n",
    "print('train-MSE:',mean_squared_error(train_y,svr_pipe.predict(train_x)))\n",
    "print('train-r2:',r2_score(train_y,svr_pipe.predict(train_x)))\n",
    "print('test-MSE:',mean_squared_error(test_y,svr_pipe.predict(test_x)))\n",
    "print('test-r2:',r2_score(test_y,svr_pipe.predict(test_x)))\n",
    "\n",
    "start_time1 = time.time()\n",
    "svr_pipe.predict(test_x)\n",
    "end_time1 = time.time()\n",
    "\n",
    "print('test-time:',end_time1 - start_time1)"
   ]
  },
  {
   "cell_type": "code",
   "execution_count": 37,
   "id": "15ee995a",
   "metadata": {},
   "outputs": [
    {
     "name": "stdout",
     "output_type": "stream",
     "text": [
      "Looking in indexes: https://pypi.tuna.tsinghua.edu.cn/simple\n",
      "Collecting xgboost\n",
      "  Downloading https://pypi.tuna.tsinghua.edu.cn/packages/94/41/143e80c1f48f7e826380f382dff6caf93a698c77bf2e9e38290bbbfbfe42/xgboost-1.7.6-py3-none-macosx_10_15_x86_64.macosx_11_0_x86_64.macosx_12_0_x86_64.whl (1.8 MB)\n",
      "\u001b[K     |████████████████████████████████| 1.8 MB 319 kB/s eta 0:00:01\n",
      "\u001b[?25hRequirement already satisfied: scipy in /Users/zhangtianjie/opt/anaconda3/lib/python3.8/site-packages (from xgboost) (1.8.1)\n",
      "Requirement already satisfied: numpy in /Users/zhangtianjie/opt/anaconda3/lib/python3.8/site-packages (from xgboost) (1.22.2)\n",
      "Installing collected packages: xgboost\n",
      "Successfully installed xgboost-1.7.6\n"
     ]
    }
   ],
   "source": [
    "# !pip install xgboost"
   ]
  },
  {
   "cell_type": "code",
   "execution_count": 48,
   "id": "79828561",
   "metadata": {},
   "outputs": [
    {
     "name": "stdout",
     "output_type": "stream",
     "text": [
      "training-time: 0.4967978000640869\n",
      "train-MSE: 0.14414496957490386\n",
      "train-r2: 0.6311551926683319\n",
      "test-MSE: 0.19065295335173915\n",
      "test-r2: 0.5153097613103101\n",
      "test-time: 0.01021122932434082\n"
     ]
    }
   ],
   "source": [
    "import xgboost as xgb\n",
    "xgb_pipe = Pipeline([\n",
    "    ('columns', ColumnTransformer([\n",
    "        ('AADT',MinMaxScaler(),['AADT_ALL_VEHIC']),\n",
    "        ('Crack',MinMaxScaler(),['MEPDG_TRANS_CRACK_LENGTH_AC']),\n",
    "        ('time',MinMaxScaler(),['construction_time'])\n",
    "    ])),\n",
    "    ('model', xgb.XGBRegressor())\n",
    "])\n",
    "start_time = time.time()\n",
    "xgb_pipe.fit(train_x,train_y)\n",
    "end_time = time.time()\n",
    "print('training-time:',end_time - start_time)\n",
    "print('train-MSE:',mean_squared_error(train_y,xgb_pipe.predict(train_x)))\n",
    "print('train-r2:',r2_score(train_y,xgb_pipe.predict(train_x)))\n",
    "print('test-MSE:',mean_squared_error(test_y,xgb_pipe.predict(test_x)))\n",
    "print('test-r2:',r2_score(test_y,xgb_pipe.predict(test_x)))\n",
    "\n",
    "start_time1 = time.time()\n",
    "xgb_pipe.predict(test_x)\n",
    "end_time1 = time.time()\n",
    "\n",
    "print('test-time:',end_time1 - start_time1)"
   ]
  },
  {
   "cell_type": "code",
   "execution_count": null,
   "id": "d2bebce8",
   "metadata": {},
   "outputs": [],
   "source": []
  }
 ],
 "metadata": {
  "kernelspec": {
   "display_name": "Python 3",
   "language": "python",
   "name": "python3"
  },
  "language_info": {
   "codemirror_mode": {
    "name": "ipython",
    "version": 3
   },
   "file_extension": ".py",
   "mimetype": "text/x-python",
   "name": "python",
   "nbconvert_exporter": "python",
   "pygments_lexer": "ipython3",
   "version": "3.8.8"
  }
 },
 "nbformat": 4,
 "nbformat_minor": 5
}
