{
 "cells": [
  {
   "cell_type": "code",
   "execution_count": 1,
   "id": "fcbcbb29",
   "metadata": {},
   "outputs": [],
   "source": [
    "import pandas as pd\n",
    "import numpy as np\n",
    "import matplotlib.pyplot as plt\n",
    "import torch.nn as nn\n",
    "import torch\n",
    "from tqdm import tqdm\n",
    "import full_iri_dataset_generator as iri\n",
    "from training_loop import train_model"
   ]
  },
  {
   "cell_type": "code",
   "execution_count": 2,
   "id": "d23820eb",
   "metadata": {},
   "outputs": [],
   "source": [
    "SEQUENCE_LENGTH = 10"
   ]
  },
  {
   "cell_type": "markdown",
   "id": "dc39da0e",
   "metadata": {},
   "source": [
    "# Description\n",
    "\n",
    "This is a test model to figure out standardized training and dataset formatting"
   ]
  },
  {
   "cell_type": "markdown",
   "id": "d0cd7158",
   "metadata": {},
   "source": [
    "## Preprocessing"
   ]
  },
  {
   "cell_type": "code",
   "execution_count": 3,
   "id": "18614bc7",
   "metadata": {},
   "outputs": [
    {
     "name": "stderr",
     "output_type": "stream",
     "text": [
      "                                                                         "
     ]
    },
    {
     "name": "stdout",
     "output_type": "stream",
     "text": [
      "Train size:  25554\n",
      "Test size:  6389\n"
     ]
    },
    {
     "name": "stderr",
     "output_type": "stream",
     "text": [
      "\r"
     ]
    }
   ],
   "source": [
    "train, test = iri.load_iri_datasets(path=\"../training_data/final_data.parquet\",\n",
    "                                    construction_path=\"../training_data/construction_data.parquet\",\n",
    "                                    seq_length=SEQUENCE_LENGTH)\n",
    "\n",
    "print(\"Train size: \", len(train))\n",
    "print(\"Test size: \", len(test))"
   ]
  },
  {
   "cell_type": "markdown",
   "id": "b05dcd63",
   "metadata": {},
   "source": [
    "## Model Definition"
   ]
  },
  {
   "cell_type": "code",
   "execution_count": 21,
   "id": "68ff376a",
   "metadata": {},
   "outputs": [],
   "source": [
    "class FNN(nn.Module):\n",
    "    def __init__(self):\n",
    "        super(FNN, self).__init__()\n",
    "        self.f1 = nn.Linear(SEQUENCE_LENGTH * 6, 4096)\n",
    "        self.f2 = nn.Linear(4096, 512)\n",
    "        self.f4 = nn.Linear(512, 64)\n",
    "        self.f3 = nn.Linear(64, 2)\n",
    "        \n",
    "    def forward(self, x):\n",
    "        x = x.view(-1, 60)\n",
    "        x = torch.relu(self.f1(x))\n",
    "        x = torch.relu(self.f2(x))\n",
    "        x = torch.relu(self.f4(x))\n",
    "        x = self.f3(x)\n",
    "        return x\n"
   ]
  },
  {
   "cell_type": "markdown",
   "id": "1401b0de",
   "metadata": {},
   "source": [
    "## Training"
   ]
  },
  {
   "cell_type": "code",
   "execution_count": 25,
   "id": "06fdfefb",
   "metadata": {},
   "outputs": [
    {
     "name": "stderr",
     "output_type": "stream",
     "text": [
      "Training Epoch:   0%|          | 0/250 [00:00<?, ?it/s]"
     ]
    },
    {
     "name": "stderr",
     "output_type": "stream",
     "text": [
      "Training Epoch: 100%|██████████| 250/250 [02:16<00:00,  1.83it/s, Train Loss=0.0148, Test Loss=0.0175]\n"
     ]
    }
   ],
   "source": [
    "model = FNN()\n",
    "loss = nn.MSELoss()\n",
    "optimizer = torch.optim.Adam(model.parameters(), lr=0.0001)\n",
    "lr_scheduler = torch.optim.lr_scheduler.StepLR(optimizer, step_size=10, gamma=0.75)\n",
    "\n",
    "train_model(model, train, test, loss, optimizer, epochs=250, test_every_n=10, batch_size=512, lr_scheduler=lr_scheduler)\n",
    "        "
   ]
  },
  {
   "cell_type": "markdown",
   "id": "7996cfeb",
   "metadata": {},
   "source": [
    "# Evaluation"
   ]
  },
  {
   "cell_type": "code",
   "execution_count": 26,
   "id": "f349be4c",
   "metadata": {},
   "outputs": [
    {
     "name": "stdout",
     "output_type": "stream",
     "text": [
      "R^2 for training data: 0.3243620628620961\n",
      "R^2 for testing data: 0.24752439315843794\n"
     ]
    }
   ],
   "source": [
    "# from torcheval.metrics import R2Score\n",
    "from sklearn.metrics import r2_score\n",
    "from torch.utils.data import DataLoader\n",
    "\n",
    "def compute_r2_for(dataset):\n",
    "    from_model = []\n",
    "    goals = []\n",
    "    train_data = DataLoader(dataset, batch_size=256)\n",
    "    for _, data in enumerate(train_data):\n",
    "        inputs, goal = data[0], data[1]\n",
    "        outputs = model(inputs)\n",
    "        from_model.append(outputs)\n",
    "        goals.append(goal)\n",
    "    from_model = torch.cat(from_model)\n",
    "    goals = torch.cat(goals)\n",
    "    return r2_score(goals, from_model)\n",
    "\n",
    "model.to(\"cpu\")\n",
    "model.eval()\n",
    "with torch.no_grad():\n",
    "    train_r2 = compute_r2_for(train)\n",
    "    print(f\"R^2 for training data: {train_r2}\")\n",
    "    test_r2 = compute_r2_for(test)\n",
    "    print(f\"R^2 for testing data: {test_r2}\")"
   ]
  },
  {
   "cell_type": "code",
   "execution_count": 27,
   "id": "59ff360a",
   "metadata": {},
   "outputs": [
    {
     "name": "stdout",
     "output_type": "stream",
     "text": [
      "MSE for training data: 0.014994087629020214\n",
      "MSE for testing data: 0.017716534435749054\n"
     ]
    }
   ],
   "source": [
    "from torcheval.metrics import MeanSquaredError\n",
    "\n",
    "def compute_mse_for(dataset):\n",
    "    mse = MeanSquaredError()\n",
    "    train_data = DataLoader(dataset, batch_size=256, shuffle=True)\n",
    "    for _, data in enumerate(train_data):\n",
    "        inputs, goal = data[0], data[1]\n",
    "        outputs = model(inputs)\n",
    "        mse.update(goal, outputs)\n",
    "    return mse.compute()\n",
    "\n",
    "model.to(\"cpu\")\n",
    "model.eval()\n",
    "with torch.no_grad():\n",
    "    train_mse = compute_mse_for(train)\n",
    "    print(f\"MSE for training data: {train_mse}\")\n",
    "    test_mse = compute_mse_for(test)\n",
    "    print(f\"MSE for testing data: {test_mse}\")"
   ]
  }
 ],
 "metadata": {
  "kernelspec": {
   "display_name": "Python 3",
   "language": "python",
   "name": "python3"
  },
  "language_info": {
   "codemirror_mode": {
    "name": "ipython",
    "version": 3
   },
   "file_extension": ".py",
   "mimetype": "text/x-python",
   "name": "python",
   "nbconvert_exporter": "python",
   "pygments_lexer": "ipython3",
   "version": "3.11.3"
  }
 },
 "nbformat": 4,
 "nbformat_minor": 5
}
