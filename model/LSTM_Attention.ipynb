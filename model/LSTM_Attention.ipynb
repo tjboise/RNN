{
 "cells": [
  {
   "cell_type": "markdown",
   "metadata": {},
   "source": [
    "## Imports"
   ]
  },
  {
   "cell_type": "code",
   "execution_count": null,
   "metadata": {},
   "outputs": [],
   "source": [
    "import torch.nn as nn\n",
    "import torch\n",
    "import full_iri_dataset_generator as iri\n",
    "from training_loop import train_model"
   ]
  },
  {
   "cell_type": "markdown",
   "metadata": {},
   "source": [
    "## Constants\n",
    "\n",
    "- `SEQUENCE_LENGTH` is the number of historical measurements before the target element to provide to the model\n",
    "- `NUM_FREATURES_PER_SAMPLE` is how many details each measurement has. `IRI-only` has 3: left_iri, right_iri, and time_since_first_measurement\n",
    "- `NUM_LAYERS` is the number of RNN layers to use"
   ]
  },
  {
   "cell_type": "code",
   "execution_count": null,
   "metadata": {},
   "outputs": [],
   "source": [
    "SEQUENCE_LENGTH = 10\n",
    "NUM_HEADS = 1\n",
    "NUM_FEATURES_PER_SAMPLE = 14\n",
    "NUM_LAYERS = 3\n",
    "EMBEDDING_DIM = SEQUENCE_LENGTH * NUM_FEATURES_PER_SAMPLE"
   ]
  },
  {
   "cell_type": "markdown",
   "metadata": {},
   "source": [
    "## Dataset Preperation\n",
    "\n",
    "Load train and test datasets"
   ]
  },
  {
   "cell_type": "code",
   "execution_count": null,
   "metadata": {},
   "outputs": [],
   "source": [
    "train, test = iri.load_iri_datasets(path=\"../training_data/final_data.parquet\",\n",
    "                                    construction_path=\"../training_data/construction_data.parquet\",\n",
    "                                    seq_length=SEQUENCE_LENGTH)\n",
    "\n",
    "print(len(train), len(test))\n",
    "print(train[0][0].shape, train[0][1].shape)"
   ]
  },
  {
   "cell_type": "markdown",
   "metadata": {},
   "source": [
    "## Model Definition\n",
    "\n",
    "Here a basic RNN classifier model is defined.\n",
    "\n",
    "1. Data is flattened\n",
    "2. RNN layers process data and modify hidden state\n",
    "3. final layer maps hidden state to 3 predicted probilities\n",
    "4. outputs are scaled using a logsoftmax function"
   ]
  },
  {
   "cell_type": "code",
   "execution_count": null,
   "metadata": {},
   "outputs": [],
   "source": [
    "class LSTM_Attention_Layer(nn.Module):\n",
    "    def __init__(self):\n",
    "        super(LSTM_Attention_Layer, self).__init__()\n",
    "        self.attention = nn.MultiheadAttention(EMBEDDING_DIM, NUM_HEADS)\n",
    "        self.linear = nn.Linear(EMBEDDING_DIM, EMBEDDING_DIM)\n",
    "        self.final = nn.Linear(EMBEDDING_DIM, EMBEDDING_DIM)\n",
    "        self.lstm = nn.LSTM(input_size=EMBEDDING_DIM,\n",
    "                          hidden_size=EMBEDDING_DIM,\n",
    "                          num_layers=1,\n",
    "                          batch_first=True)\n",
    "    def forward(self, x):\n",
    "        hidden = torch.zeros(1,\n",
    "                             EMBEDDING_DIM).to(x.device)\n",
    "        cell = torch.zeros(1,\n",
    "                            EMBEDDING_DIM).to(x.device)\n",
    "        x = x.reshape(x.shape[0], -1)\n",
    "        out = self.linear(x)\n",
    "        out, _ = self.attention(out, out, out)\n",
    "        out, _ = self.lstm(x, (hidden, cell))\n",
    "        out = self.final(out)\n",
    "        return out\n",
    "class LSTM(nn.Module):\n",
    "    def __init__(self):\n",
    "        super(LSTM, self).__init__()\n",
    "        self.embedding = nn.Linear(SEQUENCE_LENGTH * NUM_FEATURES_PER_SAMPLE, EMBEDDING_DIM)\n",
    "        self.first = LSTM_Attention_Layer()\n",
    "        self.layers = nn.ModuleList([LSTM_Attention_Layer() for _ in range(NUM_LAYERS - 1)])\n",
    "        self.final = nn.Linear(EMBEDDING_DIM, 2)\n",
    "\n",
    "    def forward(self, x):\n",
    "        out = self.embedding(x.reshape(-1, SEQUENCE_LENGTH * NUM_FEATURES_PER_SAMPLE))\n",
    "        out = self.first(out)\n",
    "        for layer in self.layers:\n",
    "            out = layer(out)\n",
    "        out = self.final(out.reshape(-1, EMBEDDING_DIM))\n",
    "        return out"
   ]
  },
  {
   "cell_type": "markdown",
   "metadata": {},
   "source": [
    "## Training"
   ]
  },
  {
   "cell_type": "code",
   "execution_count": null,
   "metadata": {},
   "outputs": [],
   "source": [
    "model = LSTM()\n",
    "loss = nn.MSELoss()\n",
    "optimizer = torch.optim.Adam(model.parameters(), lr=0.01)\n",
    "\n",
    "lr_scheduler = torch.optim.lr_scheduler.CyclicLR(optimizer, base_lr=0.001, max_lr=0.1, step_size_up=10, cycle_momentum=False)\n",
    "\n",
    "training_info = train_model(model, train, test, loss, optimizer, epochs=200, test_every_n=10, batch_size=512, lr_scheduler=lr_scheduler)"
   ]
  },
  {
   "cell_type": "markdown",
   "metadata": {},
   "source": [
    "## Accuracy Computation"
   ]
  },
  {
   "cell_type": "code",
   "execution_count": null,
   "metadata": {},
   "outputs": [],
   "source": [
    "from torcheval.metrics import R2Score\n",
    "from torch.utils.data import DataLoader\n",
    "\n",
    "def compute_r2_for(dataset):\n",
    "    r2 = R2Score()\n",
    "    train_data = DataLoader(dataset, batch_size=256, shuffle=True)\n",
    "    for _, data in enumerate(train_data):\n",
    "        inputs, goal = data[0], data[1]\n",
    "        outputs = model(inputs)\n",
    "        r2.update(goal, outputs)\n",
    "    return r2.compute()\n",
    "\n",
    "model.to(\"cpu\")\n",
    "model.eval()\n",
    "with torch.no_grad():\n",
    "    train_r2 = compute_r2_for(train)\n",
    "    print(f\"R^2 for training data: {train_r2}\")\n",
    "    test_r2 = compute_r2_for(test)\n",
    "    print(f\"R^2 for testing data: {test_r2}\")"
   ]
  },
  {
   "cell_type": "code",
   "execution_count": null,
   "metadata": {},
   "outputs": [],
   "source": [
    "from torcheval.metrics import MeanSquaredError\n",
    "\n",
    "def compute_mse_for(dataset):\n",
    "    mse = MeanSquaredError()\n",
    "    train_data = DataLoader(dataset, batch_size=256, shuffle=True)\n",
    "    for _, data in enumerate(train_data):\n",
    "        inputs, goal = data[0], data[1]\n",
    "        outputs = model(inputs)\n",
    "        mse.update(outputs, goal)\n",
    "    return mse.compute()\n",
    "\n",
    "model.to(\"cpu\")\n",
    "model.eval()\n",
    "with torch.no_grad():\n",
    "    train_mse = compute_mse_for(train)\n",
    "    print(f\"MSE for training data: {train_mse}\")\n",
    "    test_mse = compute_mse_for(test)\n",
    "    print(f\"MSE for testing data: {test_mse}\")"
   ]
  },
  {
   "cell_type": "code",
   "execution_count": null,
   "metadata": {},
   "outputs": [],
   "source": [
    "import matplotlib.pyplot as plt\n",
    "import numpy as np\n",
    "\n",
    "roads = range(0, 500)\n",
    "\n",
    "#common sense testing\n",
    "# call the model ith t increments of 360 for 10 timesteps and print the results\n",
    "allres = []\n",
    "for i in roads:\n",
    "    results = []\n",
    "    inpt = test[i][0]\n",
    "    for i in range(0, 50):\n",
    "        inpt[-2, -1] = 1 * i\n",
    "        results.append(model(inpt.unsqueeze(0)).squeeze() * iri.iri_range + iri.mean_iri)\n",
    "        results[-1] = results[-1].detach().numpy()\n",
    "    allres.append(results)\n",
    "allres = np.array(allres)\n",
    "for i in range(50):\n",
    "    plt.plot(allres[i, :, 0], label=f\"Road {i}\")"
   ]
  }
 ],
 "metadata": {
  "kernelspec": {
   "display_name": "Python 3",
   "language": "python",
   "name": "python3"
  },
  "language_info": {
   "codemirror_mode": {
    "name": "ipython",
    "version": 3
   },
   "file_extension": ".py",
   "mimetype": "text/x-python",
   "name": "python",
   "nbconvert_exporter": "python",
   "pygments_lexer": "ipython3",
   "version": "3.11.3"
  }
 },
 "nbformat": 4,
 "nbformat_minor": 2
}
