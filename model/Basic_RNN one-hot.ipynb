{
 "cells": [
  {
   "attachments": {},
   "cell_type": "markdown",
   "metadata": {},
   "source": [
    "# This is a basic RNN model Designed to develop evaluation metrics"
   ]
  },
  {
   "cell_type": "code",
   "execution_count": null,
   "metadata": {},
   "outputs": [],
   "source": [
    "import pandas as pd\n",
    "import numpy as np\n",
    "import matplotlib.pyplot as plt\n",
    "import torch.nn as nn\n",
    "import torch\n",
    "from tqdm import tqdm\n",
    "import iri_dataset_generator as iri\n",
    "from training_loop import train_model\n",
    "\n",
    "SEQUENCE_LENGTH = 10\n",
    "train, test = iri.load_iri_datasets(path=\"../training_data/IRI-only.parquet\",seq_length=SEQUENCE_LENGTH, one_hot=True)"
   ]
  },
  {
   "cell_type": "code",
   "execution_count": null,
   "metadata": {},
   "outputs": [],
   "source": [
    "class FNN(nn.Module):\n",
    "    def __init__(self):\n",
    "        super(FNN, self).__init__()\n",
    "        self.rnn = nn.RNN(input_size=SEQUENCE_LENGTH, hidden_size=30, num_layers=10, batch_first=True)\n",
    "        self.final = nn.Linear(30, 3)\n",
    "        \n",
    "    def forward(self, x):\n",
    "        h0 = torch.zeros(10, x.size(0), 30).to(x.device)\n",
    "        out, _ = self.rnn(x, h0)\n",
    "\n",
    "        # Decode the hidden state of the last time step\n",
    "        out = self.final(out[:, -1, :])\n",
    "        out = nn.LogSoftmax(dim=1)(out)\n",
    "        return out"
   ]
  },
  {
   "cell_type": "code",
   "execution_count": null,
   "metadata": {},
   "outputs": [],
   "source": [
    "model = FNN()\n",
    "loss = nn.CrossEntropyLoss()\n",
    "optimizer = torch.optim.Adam(model.parameters(), lr=0.0001)\n",
    "\n",
    "train_model(model, train, test, loss, optimizer, epochs=200, test_every_n=10, batch_size=512)"
   ]
  },
  {
   "cell_type": "code",
   "execution_count": null,
   "metadata": {},
   "outputs": [],
   "source": [
    "# test accuracy\n",
    "from torch.utils.data import DataLoader\n",
    "\n",
    "def accuracy(output, labels):\n",
    "    _, predictions = torch.max(output, dim=1)\n",
    "    correct = (predictions == labels).float()\n",
    "    accuracy = correct.sum() / len(correct)\n",
    "    return accuracy\n",
    "\n",
    "device = torch.device(\"cuda\")\n",
    "\n",
    "n1 = 0\n",
    "n2 = 0\n",
    "n3 = 0\n",
    "\n",
    "model.eval()\n",
    "with torch.no_grad():\n",
    "    correct = 0\n",
    "    total = 0\n",
    "    train_data = DataLoader(train, batch_size=256, shuffle=True)\n",
    "    for _, data in enumerate(train_data):\n",
    "        inputs, goal = data[0].to(device), data[1].to(device)\n",
    "        outputs = model(inputs)\n",
    "        _, target_indices = torch.max(goal, dim=1)\n",
    "        correct += accuracy(outputs, target_indices)\n",
    "        total += 1\n",
    "    print(f'Accuracy of the network on the train data: {100 * correct / total} %')\n",
    "    test_data = DataLoader(test, batch_size=256, shuffle=True)\n",
    "    correct = 0\n",
    "    total = 0\n",
    "    for _, data in enumerate(test_data):\n",
    "        inputs, goal = data[0].to(device), data[1].to(device)\n",
    "        outputs = model(inputs)\n",
    "        _, target_indices = torch.max(goal, dim=1)\n",
    "        correct += accuracy(outputs, target_indices)\n",
    "        total += 1\n",
    "    print(f'Accuracy of the network on the test data: {100 * correct / total} %')"
   ]
  }
 ],
 "metadata": {
  "kernelspec": {
   "display_name": "torch2gpu",
   "language": "python",
   "name": "python3"
  },
  "language_info": {
   "codemirror_mode": {
    "name": "ipython",
    "version": 3
   },
   "file_extension": ".py",
   "mimetype": "text/x-python",
   "name": "python",
   "nbconvert_exporter": "python",
   "pygments_lexer": "ipython3",
   "version": "3.11.3"
  },
  "orig_nbformat": 4
 },
 "nbformat": 4,
 "nbformat_minor": 2
}
