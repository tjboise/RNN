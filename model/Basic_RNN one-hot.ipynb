{
 "cells": [
  {
   "cell_type": "markdown",
   "metadata": {},
   "source": [
    "# This is a basic RNN model used to test dataset preperation and model evaluation"
   ]
  },
  {
   "cell_type": "markdown",
   "metadata": {},
   "source": [
    "## Imports"
   ]
  },
  {
   "cell_type": "code",
   "execution_count": 1,
   "metadata": {},
   "outputs": [],
   "source": [
    "import torch.nn as nn\n",
    "import torch\n",
    "import full_iri_dataset_generator as iri\n",
    "from training_loop import train_model"
   ]
  },
  {
   "cell_type": "markdown",
   "metadata": {},
   "source": [
    "## Constants\n",
    "\n",
    "- `SEQUENCE_LENGTH` is the number of historical measurements before the target element to provide to the model\n",
    "- `NUM_FREATURES_PER_SAMPLE` is how many details each measurement has. `IRI-only` has 3: left_iri, right_iri, and time_since_first_measurement\n",
    "- `NUM_LAYERS` is the number of RNN layers to use"
   ]
  },
  {
   "cell_type": "code",
   "execution_count": 2,
   "metadata": {},
   "outputs": [],
   "source": [
    "SEQUENCE_LENGTH = 10\n",
    "NUM_FEATURES_PER_SAMPLE = 6\n",
    "NUM_LAYERS = 5"
   ]
  },
  {
   "cell_type": "markdown",
   "metadata": {},
   "source": [
    "## Dataset Preperation\n",
    "\n",
    "Load train and test datasets"
   ]
  },
  {
   "cell_type": "code",
   "execution_count": 3,
   "metadata": {},
   "outputs": [
    {
     "name": "stderr",
     "output_type": "stream",
     "text": [
      "                                                                         \r"
     ]
    }
   ],
   "source": [
    "train, test = iri.load_iri_datasets(path=\"../training_data/final_data.parquet\",\n",
    "                                    construction_path=\"../training_data/construction_data.parquet\",\n",
    "                                    seq_length=SEQUENCE_LENGTH,\n",
    "                                    one_hot=True)"
   ]
  },
  {
   "cell_type": "markdown",
   "metadata": {},
   "source": [
    "## Model Definition\n",
    "\n",
    "Here a basic RNN classifier model is defined.\n",
    "\n",
    "1. Data is flattened\n",
    "2. RNN layers process data and modify hidden state\n",
    "3. final layer maps hidden state to 3 predicted probilities\n",
    "4. outputs are scaled using a logsoftmax function"
   ]
  },
  {
   "cell_type": "code",
   "execution_count": 4,
   "metadata": {},
   "outputs": [],
   "source": [
    "class RNN(nn.Module):\n",
    "    def __init__(self):\n",
    "        super(RNN, self).__init__()\n",
    "        self.rnn = nn.RNN(input_size=SEQUENCE_LENGTH,\n",
    "                          hidden_size=SEQUENCE_LENGTH * NUM_FEATURES_PER_SAMPLE,\n",
    "                          num_layers=NUM_LAYERS,\n",
    "                          batch_first=True)\n",
    "        self.final = nn.Linear(SEQUENCE_LENGTH * NUM_FEATURES_PER_SAMPLE, 3)\n",
    "\n",
    "    def forward(self, x):\n",
    "        hidden = torch.zeros(NUM_LAYERS,\n",
    "                             x.size(0),\n",
    "                             SEQUENCE_LENGTH * NUM_FEATURES_PER_SAMPLE).to(x.device)\n",
    "        out, _ = self.rnn(x, hidden)\n",
    "        out = self.final(out[:, -1, :])\n",
    "        out = nn.LogSoftmax(dim=1)(out)\n",
    "        return out"
   ]
  },
  {
   "cell_type": "markdown",
   "metadata": {},
   "source": [
    "## Training"
   ]
  },
  {
   "cell_type": "code",
   "execution_count": 5,
   "metadata": {},
   "outputs": [
    {
     "name": "stderr",
     "output_type": "stream",
     "text": [
      "Training Epoch: 100%|██████████| 300/300 [07:45<00:00,  1.55s/it, Train Loss=0.0898, Test Loss=0.138]\n"
     ]
    }
   ],
   "source": [
    "model = RNN()\n",
    "loss = nn.CrossEntropyLoss()\n",
    "optimizer = torch.optim.Adam(model.parameters(), lr=0.00005)\n",
    "\n",
    "train_model(model, train, test, loss, optimizer, epochs=300, test_every_n=10, batch_size=512)"
   ]
  },
  {
   "cell_type": "markdown",
   "metadata": {},
   "source": [
    "## Accuracy Computation"
   ]
  },
  {
   "cell_type": "code",
   "execution_count": 6,
   "metadata": {},
   "outputs": [
    {
     "name": "stderr",
     "output_type": "stream",
     "text": [
      "c:\\Users\\alex\\miniconda3\\envs\\torch2gpu\\Lib\\site-packages\\torcheval\\metrics\\functional\\classification\\accuracy.py:271: UserWarning: The reduce argument of torch.scatter with Tensor src is deprecated and will be removed in a future PyTorch release. Use torch.scatter_reduce instead for more reduction options. (Triggered internally at C:\\cb\\pytorch_1000000000000\\work\\aten\\src\\ATen\\native\\TensorAdvancedIndexing.cpp:227.)\n",
      "  num_correct = mask.new_zeros(num_classes).scatter_(0, target, mask, reduce=\"add\")\n"
     ]
    },
    {
     "name": "stdout",
     "output_type": "stream",
     "text": [
      "TRAIN: GOOD | ACCEPTABLE | POOR\n",
      "ACCURACY: 0.9998149871826172  |  0.6893667578697205  |  0.9888498187065125\n",
      "PRECISION: 0.9987063407897949  |  0.8529194593429565  |  0.9722724556922913\n",
      "RECALL: 0.9998149871826172  |  0.6893667578697205  |  0.9888498187065125\n",
      "F1: 0.9992603659629822  |  0.762471079826355  |  0.9804911017417908\n",
      "\n",
      "TEST: GOOD | ACCEPTABLE | POOR\n",
      "ACCURACY: 0.9927849769592285  |  0.5517241358757019  |  0.9777483940124512\n",
      "PRECISION: 0.9985486268997192  |  0.7032967209815979  |  0.9550247192382812\n",
      "RECALL: 0.9927849769592285  |  0.5517241358757019  |  0.9777483940124512\n",
      "F1: 0.9956584572792053  |  0.6183575391769409  |  0.9662529826164246\n"
     ]
    }
   ],
   "source": [
    "from torcheval.metrics import MulticlassAccuracy, MulticlassPrecision, MulticlassRecall, MulticlassF1Score\n",
    "from torch.utils.data import DataLoader\n",
    "\n",
    "def compute_metric(dataset, metric):\n",
    "    train_data = DataLoader(dataset, batch_size=512, shuffle=True)\n",
    "    for _, data in enumerate(train_data):\n",
    "        inputs, goal = data[0], data[1]\n",
    "        _, goal = torch.max(goal, dim=1)\n",
    "        outputs = model(inputs)\n",
    "        metric.update(outputs, goal)\n",
    "    return metric.compute()\n",
    "\n",
    "def show_metrics_for(dataset, state):\n",
    "    train_accuracy = compute_metric(dataset, metric=MulticlassAccuracy(average='none', num_classes=3))\n",
    "    train_precision = compute_metric(dataset, metric=MulticlassPrecision(average='None', num_classes=3))\n",
    "    train_recall = compute_metric(dataset, metric=MulticlassRecall(average=None, num_classes=3))\n",
    "    train_f1 = compute_metric(dataset, metric=MulticlassF1Score(average=None, num_classes=3))\n",
    "    print(f\"{state}: GOOD | ACCEPTABLE | POOR\")\n",
    "    print(\"ACCURACY:\", float(train_accuracy[0]), \" | \", float(train_accuracy[1]), \" | \", float(train_accuracy[2]))\n",
    "    print(\"PRECISION:\", float(train_precision[0]), \" | \", float(train_precision[1]), \" | \", float(train_precision[2]))\n",
    "    print(\"RECALL:\", float(train_recall[0]), \" | \", float(train_recall[1]), \" | \", float(train_recall[2]))\n",
    "    print(\"F1:\", float(train_f1[0]), \" | \", float(train_f1[1]), \" | \", float(train_f1[2]))\n",
    "\n",
    "model.to(\"cpu\")\n",
    "model.eval()\n",
    "with torch.no_grad():\n",
    "    show_metrics_for(train, \"TRAIN\")\n",
    "    print(\"\")\n",
    "    show_metrics_for(test, \"TEST\")"
   ]
  }
 ],
 "metadata": {
  "kernelspec": {
   "display_name": "Python 3",
   "language": "python",
   "name": "python3"
  },
  "language_info": {
   "codemirror_mode": {
    "name": "ipython",
    "version": 3
   },
   "file_extension": ".py",
   "mimetype": "text/x-python",
   "name": "python",
   "nbconvert_exporter": "python",
   "pygments_lexer": "ipython3",
   "version": "3.11.3"
  }
 },
 "nbformat": 4,
 "nbformat_minor": 2
}
