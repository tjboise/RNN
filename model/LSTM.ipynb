{
 "cells": [
  {
   "cell_type": "markdown",
   "metadata": {},
   "source": [
    "# This is a basic LSSTM model used to test dataset preperation and model evaluation"
   ]
  },
  {
   "cell_type": "markdown",
   "metadata": {},
   "source": [
    "## Imports"
   ]
  },
  {
   "cell_type": "code",
   "execution_count": 1,
   "metadata": {},
   "outputs": [],
   "source": [
    "import torch.nn as nn\n",
    "import torch\n",
    "import full_iri_dataset_generator as iri\n",
    "from training_loop import train_model"
   ]
  },
  {
   "cell_type": "markdown",
   "metadata": {},
   "source": [
    "## Constants\n",
    "\n",
    "- `SEQUENCE_LENGTH` is the number of historical measurements before the target element to provide to the model\n",
    "- `NUM_FREATURES_PER_SAMPLE` is how many details each measurement has. `IRI-only` has 3: left_iri, right_iri, and time_since_first_measurement\n",
    "- `NUM_LAYERS` is the number of RNN layers to use"
   ]
  },
  {
   "cell_type": "code",
   "execution_count": 2,
   "metadata": {},
   "outputs": [],
   "source": [
    "SEQUENCE_LENGTH = 10\n",
    "NUM_FEATURES_PER_SAMPLE = 6\n",
    "NUM_LAYERS = 5"
   ]
  },
  {
   "cell_type": "markdown",
   "metadata": {},
   "source": [
    "## Dataset Preperation\n",
    "\n",
    "Load train and test datasets"
   ]
  },
  {
   "cell_type": "code",
   "execution_count": 3,
   "metadata": {},
   "outputs": [
    {
     "name": "stderr",
     "output_type": "stream",
     "text": [
      "                                                                         \r"
     ]
    },
    {
     "name": "stdout",
     "output_type": "stream",
     "text": [
      "Skipped 0 sequences because the last element was a construction element\n"
     ]
    },
    {
     "name": "stderr",
     "output_type": "stream",
     "text": [
      "                                                                       "
     ]
    },
    {
     "name": "stdout",
     "output_type": "stream",
     "text": [
      "Skipped 0 sequences because the last element was a construction element\n",
      "25554 6389\n"
     ]
    },
    {
     "name": "stderr",
     "output_type": "stream",
     "text": [
      "\r"
     ]
    }
   ],
   "source": [
    "train, test = iri.load_iri_datasets(path=\"../training_data/final_data.parquet\",\n",
    "                                    construction_path=\"../training_data/construction_data.parquet\",\n",
    "                                    seq_length=SEQUENCE_LENGTH)\n",
    "\n",
    "print(len(train), len(test))\n"
   ]
  },
  {
   "cell_type": "markdown",
   "metadata": {},
   "source": [
    "## Model Definition\n",
    "\n",
    "Here a basic RNN classifier model is defined.\n",
    "\n",
    "1. Data is flattened\n",
    "2. RNN layers process data and modify hidden state\n",
    "3. final layer maps hidden state to 3 predicted probilities\n",
    "4. outputs are scaled using a logsoftmax function"
   ]
  },
  {
   "cell_type": "code",
   "execution_count": 4,
   "metadata": {},
   "outputs": [],
   "source": [
    "class LSTM(nn.Module):\n",
    "    def __init__(self):\n",
    "        super(LSTM, self).__init__()\n",
    "        self.rnn = nn.LSTM(input_size=SEQUENCE_LENGTH,\n",
    "                          hidden_size=SEQUENCE_LENGTH * NUM_FEATURES_PER_SAMPLE,\n",
    "                          num_layers=NUM_LAYERS,\n",
    "                          batch_first=True)\n",
    "        self.final = nn.Linear(SEQUENCE_LENGTH * NUM_FEATURES_PER_SAMPLE, 2)\n",
    "\n",
    "    def forward(self, x):\n",
    "        hidden = torch.zeros(NUM_LAYERS,\n",
    "                             x.size(0),\n",
    "                             SEQUENCE_LENGTH * NUM_FEATURES_PER_SAMPLE).to(x.device)\n",
    "        cell = torch.zeros(NUM_LAYERS,\n",
    "                            x.size(0),\n",
    "                            SEQUENCE_LENGTH * NUM_FEATURES_PER_SAMPLE).to(x.device)\n",
    "        out, _ = self.rnn(x, (hidden, cell))\n",
    "        # layer normalization\n",
    "        out = self.final(out[:, -1, :])\n",
    "        return out"
   ]
  },
  {
   "cell_type": "markdown",
   "metadata": {},
   "source": [
    "## Training"
   ]
  },
  {
   "cell_type": "code",
   "execution_count": 5,
   "metadata": {},
   "outputs": [
    {
     "name": "stderr",
     "output_type": "stream",
     "text": [
      "Training Epoch: 100%|██████████| 200/200 [02:27<00:00,  1.36it/s, Train Loss=0.00102, Test Loss=0.00158]\n"
     ]
    }
   ],
   "source": [
    "model = LSTM()\n",
    "loss = nn.MSELoss()\n",
    "optimizer = torch.optim.Adam(model.parameters(), lr=0.001)\n",
    "\n",
    "lr_scheduler = torch.optim.lr_scheduler.StepLR(optimizer, step_size=10, gamma=0.75)\n",
    "\n",
    "train_model(model, train, test, loss, optimizer, epochs=200, test_every_n=10, batch_size=512, lr_scheduler=lr_scheduler)"
   ]
  },
  {
   "cell_type": "markdown",
   "metadata": {},
   "source": [
    "## Accuracy Computation"
   ]
  },
  {
   "cell_type": "code",
   "execution_count": 6,
   "metadata": {},
   "outputs": [
    {
     "name": "stdout",
     "output_type": "stream",
     "text": [
      "R^2 for training data: 0.9520466327667236\n",
      "R^2 for testing data: 0.9293571710586548\n"
     ]
    }
   ],
   "source": [
    "from torcheval.metrics import R2Score\n",
    "from torch.utils.data import DataLoader\n",
    "\n",
    "def compute_r2_for(dataset):\n",
    "    r2 = R2Score()\n",
    "    train_data = DataLoader(dataset, batch_size=256, shuffle=True)\n",
    "    for _, data in enumerate(train_data):\n",
    "        inputs, goal = data[0], data[1]\n",
    "        outputs = model(inputs)\n",
    "        r2.update(goal, outputs)\n",
    "    return r2.compute()\n",
    "\n",
    "model.to(\"cpu\")\n",
    "model.eval()\n",
    "with torch.no_grad():\n",
    "    train_r2 = compute_r2_for(train)\n",
    "    print(f\"R^2 for training data: {train_r2}\")\n",
    "    test_r2 = compute_r2_for(test)\n",
    "    print(f\"R^2 for testing data: {test_r2}\")"
   ]
  },
  {
   "cell_type": "code",
   "execution_count": 7,
   "metadata": {},
   "outputs": [
    {
     "name": "stdout",
     "output_type": "stream",
     "text": [
      "MSE for training data: 0.001021878095343709\n",
      "MSE for testing data: 0.0015699011273682117\n"
     ]
    }
   ],
   "source": [
    "from torcheval.metrics import MeanSquaredError\n",
    "\n",
    "def compute_mse_for(dataset):\n",
    "    mse = MeanSquaredError()\n",
    "    train_data = DataLoader(dataset, batch_size=256, shuffle=True)\n",
    "    for _, data in enumerate(train_data):\n",
    "        inputs, goal = data[0], data[1]\n",
    "        outputs = model(inputs)\n",
    "        mse.update(outputs, goal)\n",
    "    return mse.compute()\n",
    "\n",
    "model.to(\"cpu\")\n",
    "model.eval()\n",
    "with torch.no_grad():\n",
    "    train_mse = compute_mse_for(train)\n",
    "    print(f\"MSE for training data: {train_mse}\")\n",
    "    test_mse = compute_mse_for(test)\n",
    "    print(f\"MSE for testing data: {test_mse}\")"
   ]
  },
  {
   "cell_type": "code",
   "execution_count": 13,
   "metadata": {},
   "outputs": [
    {
     "ename": "TypeError",
     "evalue": "can't multiply sequence by non-int of type 'numpy.float64'",
     "output_type": "error",
     "traceback": [
      "\u001b[1;31m---------------------------------------------------------------------------\u001b[0m",
      "\u001b[1;31mTypeError\u001b[0m                                 Traceback (most recent call last)",
      "Cell \u001b[1;32mIn[13], line 14\u001b[0m\n\u001b[0;32m     12\u001b[0m     \u001b[39mfor\u001b[39;00m i \u001b[39min\u001b[39;00m \u001b[39mrange\u001b[39m(\u001b[39m100\u001b[39m):\n\u001b[0;32m     13\u001b[0m         inpt[\u001b[39m-\u001b[39m\u001b[39m2\u001b[39m, \u001b[39m-\u001b[39m\u001b[39m1\u001b[39m] \u001b[39m=\u001b[39m \u001b[39m36\u001b[39m \u001b[39m*\u001b[39m i\n\u001b[1;32m---> 14\u001b[0m         results\u001b[39m.\u001b[39mappend(model(inpt\u001b[39m.\u001b[39;49munsqueeze(\u001b[39m0\u001b[39;49m))\u001b[39m.\u001b[39;49msqueeze()\u001b[39m.\u001b[39;49mtolist() \u001b[39m*\u001b[39;49m iri\u001b[39m.\u001b[39;49miri_range \u001b[39m+\u001b[39m iri\u001b[39m.\u001b[39mmean_iri)\n\u001b[0;32m     15\u001b[0m     allres\u001b[39m.\u001b[39mappend()\n\u001b[0;32m     16\u001b[0m allres \u001b[39m=\u001b[39m np\u001b[39m.\u001b[39marray(allres)\n",
      "\u001b[1;31mTypeError\u001b[0m: can't multiply sequence by non-int of type 'numpy.float64'"
     ]
    }
   ],
   "source": [
    "import matplotlib.pyplot as plt\n",
    "import numpy as np\n",
    "\n",
    "roads = range(0, 5)\n",
    "\n",
    "#common sense testing\n",
    "# call the model ith t increments of 360 for 10 timesteps and print the results\n",
    "allres = []\n",
    "for i in roads:\n",
    "    results = []\n",
    "    inpt = test[i][0]\n",
    "    for i in range(100):\n",
    "        inpt[-2, -1] = 36 * i\n",
    "        results.append(model(inpt.unsqueeze(0)).squeeze().tolist() * iri.iri_range + iri.mean_iri)\n",
    "    allres.append(results)\n",
    "allres = np.array(allres)\n",
    "for i in range(5):\n",
    "    plt.plot(allres[i, :, 0], label=f\"Road {i}\")"
   ]
  }
 ],
 "metadata": {
  "kernelspec": {
   "display_name": "Python 3",
   "language": "python",
   "name": "python3"
  },
  "language_info": {
   "codemirror_mode": {
    "name": "ipython",
    "version": 3
   },
   "file_extension": ".py",
   "mimetype": "text/x-python",
   "name": "python",
   "nbconvert_exporter": "python",
   "pygments_lexer": "ipython3",
   "version": "3.11.3"
  }
 },
 "nbformat": 4,
 "nbformat_minor": 2
}
