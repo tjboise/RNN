{
 "cells": [
  {
   "cell_type": "markdown",
   "metadata": {},
   "source": [
    "## Imports"
   ]
  },
  {
   "cell_type": "code",
   "execution_count": null,
   "metadata": {},
   "outputs": [],
   "source": [
    "import torch.nn as nn\n",
    "import torch\n",
    "import full_iri_dataset_generator as iri\n",
    "from training_loop import train_model\n",
    "import matplotlib.pyplot as plt\n",
    "import numpy as np"
   ]
  },
  {
   "cell_type": "markdown",
   "metadata": {},
   "source": [
    "## Constants\n",
    "\n",
    "- `SEQUENCE_LENGTH` is the number of historical measurements before the target element to provide to the model\n",
    "- `NUM_FREATURES_PER_SAMPLE` is how many details each measurement has. `IRI-only` has 3: left_iri, right_iri, and time_since_first_measurement\n",
    "- `NUM_LAYERS` is the number of RNN layers to use"
   ]
  },
  {
   "cell_type": "code",
   "execution_count": null,
   "metadata": {},
   "outputs": [],
   "source": [
    "SEQUENCE_LENGTH = 5\n",
    "NUM_HEADS = 1\n",
    "NUM_FEATURES_PER_SAMPLE = 14\n",
    "NUM_LAYERS = 3\n",
    "EMBEDDING_DIM = SEQUENCE_LENGTH * NUM_FEATURES_PER_SAMPLE"
   ]
  },
  {
   "cell_type": "markdown",
   "metadata": {},
   "source": [
    "## Dataset Preperation\n",
    "\n",
    "Load train and test datasets"
   ]
  },
  {
   "cell_type": "code",
   "execution_count": null,
   "metadata": {},
   "outputs": [],
   "source": [
    "train, test = iri.load_iri_datasets(path=\"../training_data/final_data.parquet\",\n",
    "                                    construction_path=\"../training_data/construction_data.parquet\",\n",
    "                                    seq_length=SEQUENCE_LENGTH)\n",
    "train2, test2 = iri.load_iri_datasets(path=\"../training_data/final_data.parquet\",\n",
    "                                    construction_path=\"../training_data/construction_data.parquet\",\n",
    "                                    seq_length=SEQUENCE_LENGTH, seed=127)\n",
    "train3, test3 = iri.load_iri_datasets(path=\"../training_data/final_data.parquet\",\n",
    "                                    construction_path=\"../training_data/construction_data.parquet\",\n",
    "                                    seq_length=SEQUENCE_LENGTH, seed=83)"
   ]
  },
  {
   "cell_type": "code",
   "execution_count": null,
   "metadata": {},
   "outputs": [],
   "source": [
    "print(iri.iri_range)"
   ]
  },
  {
   "cell_type": "markdown",
   "metadata": {},
   "source": [
    "## Model Definition\n",
    "\n",
    "Here a basic RNN classifier model is defined.\n",
    "\n",
    "1. Data is flattened\n",
    "2. RNN layers process data and modify hidden state\n",
    "3. final layer maps hidden state to 3 predicted probilities\n",
    "4. outputs are scaled using a logsoftmax function"
   ]
  },
  {
   "cell_type": "code",
   "execution_count": null,
   "metadata": {},
   "outputs": [],
   "source": [
    "# class LSTM_Attention_Layer(nn.Module):\n",
    "#     def __init__(self):\n",
    "#         super(LSTM_Attention_Layer, self).__init__()\n",
    "#         self.attention = nn.MultiheadAttention(EMBEDDING_DIM, NUM_HEADS)\n",
    "#         self.linear = nn.Linear(EMBEDDING_DIM, EMBEDDING_DIM)\n",
    "#         self.final = nn.Linear(EMBEDDING_DIM, EMBEDDING_DIM)\n",
    "#         self.lstm = nn.LSTM(input_size=EMBEDDING_DIM,\n",
    "#                           hidden_size=EMBEDDING_DIM,\n",
    "#                           num_layers=1,\n",
    "#                           batch_first=True)\n",
    "#     def forward(self, x, hidden, cell):\n",
    "#         x = x.reshape(x.shape[0], -1)\n",
    "#         out = nn.ReLU()(self.linear(x))\n",
    "#         out, (h, c) = self.lstm(out, (hidden, cell))\n",
    "#         out, _ = self.attention(out, x, out)\n",
    "#         out = self.final(out)\n",
    "#         return out, h, c\n",
    "    \n",
    "    \n",
    "# class LSTM(nn.Module):\n",
    "#     def __init__(self):\n",
    "#         super(LSTM, self).__init__()\n",
    "#         self.embedding = nn.Linear(SEQUENCE_LENGTH * NUM_FEATURES_PER_SAMPLE, EMBEDDING_DIM)\n",
    "#         self.first = LSTM_Attention_Layer()\n",
    "#         self.layers = nn.ModuleList([LSTM_Attention_Layer() for _ in range(NUM_LAYERS - 1)])\n",
    "#         self.final = nn.Linear(EMBEDDING_DIM, 2)\n",
    "\n",
    "#     def forward(self, x):\n",
    "#         hidden = torch.zeros(1,\n",
    "#                              EMBEDDING_DIM).to(x.device)\n",
    "#         cell = torch.zeros(1,\n",
    "#                             EMBEDDING_DIM).to(x.device)\n",
    "#         out = self.embedding(x.reshape(-1, SEQUENCE_LENGTH * NUM_FEATURES_PER_SAMPLE))\n",
    "#         out, hidden, cell = self.first(out, hidden, cell)\n",
    "#         for layer in self.layers:\n",
    "#             out, hidden, cell = layer(out, hidden, cell)\n",
    "#         out = self.final(out.reshape(-1, EMBEDDING_DIM))\n",
    "#         return out\n",
    "\n",
    "class Basic(nn.Module):\n",
    "    def __init__(self):\n",
    "        super(Basic, self).__init__()\n",
    "        self.encoder = nn.LSTM(SEQUENCE_LENGTH, EMBEDDING_DIM, batch_first=True, num_layers=NUM_LAYERS, dropout=0.25)\n",
    "        self.decoder = nn.LSTM(SEQUENCE_LENGTH, EMBEDDING_DIM, batch_first=True, num_layers=NUM_LAYERS, dropout=0.25)\n",
    "        self.attention = nn.MultiheadAttention(EMBEDDING_DIM, NUM_HEADS)\n",
    "        self.linear = nn.Linear(EMBEDDING_DIM * NUM_FEATURES_PER_SAMPLE, 2)\n",
    "\n",
    "    def forward(self, x):\n",
    "        encoder_outputs, hidden = self.encoder(x)\n",
    "        output, hidden = self.decoder(x, hidden)\n",
    "\n",
    "        output, _ = self.attention(output, encoder_outputs, encoder_outputs)\n",
    "        output = self.linear(output.view(output.shape[0], -1))\n",
    "        return output\n",
    "    \n",
    "class Basic_transpose(nn.Module):\n",
    "    def __init__(self):\n",
    "        super(Basic_transpose, self).__init__()\n",
    "        self.encoder = nn.LSTM(NUM_FEATURES_PER_SAMPLE, EMBEDDING_DIM, batch_first=True, num_layers=NUM_LAYERS, dropout=0.25)\n",
    "        self.decoder = nn.LSTM(NUM_FEATURES_PER_SAMPLE, EMBEDDING_DIM, batch_first=True, num_layers=NUM_LAYERS, dropout=0.25)\n",
    "        self.attention = nn.MultiheadAttention(EMBEDDING_DIM, NUM_HEADS)\n",
    "        self.linear = nn.Linear(EMBEDDING_DIM * NUM_HEADS, 2)\n",
    "\n",
    "    def forward(self, x):\n",
    "        x = x.transpose(1, 2)\n",
    "        encoder_outputs, hidden = self.encoder(x)\n",
    "        output, hidden = self.decoder(x, hidden)\n",
    "\n",
    "        output, _ = self.attention(output, encoder_outputs, encoder_outputs)\n",
    "        output = self.linear(output.view(output.shape[0], -1))\n",
    "        return output"
   ]
  },
  {
   "cell_type": "markdown",
   "metadata": {},
   "source": [
    "## Training"
   ]
  },
  {
   "cell_type": "code",
   "execution_count": null,
   "metadata": {},
   "outputs": [],
   "source": [
    "# model_t = Basic_transpose()\n",
    "# loss = nn.MSELoss()\n",
    "# optimizer = torch.optim.Adam(model_t.parameters(), lr=0.01)\n",
    "# lr_scheduler = torch.optim.lr_scheduler.StepLR(optimizer, step_size=10, gamma=0.8)\n",
    "\n",
    "# # lr_scheduler = torch.optim.lr_scheduler.CyclicLR(optimizer, base_lr=0.001, max_lr=0.1, step_size_up=10, cycle_momentum=False)\n",
    "\n",
    "# training_info_T = train_model(model_t, train, test, loss, optimizer, epochs=200, test_every_n=1, batch_size=512, lr_scheduler=lr_scheduler)\n",
    "\n",
    "model1 = Basic()\n",
    "model2 = Basic()\n",
    "model3 = Basic()\n",
    "loss = nn.MSELoss()\n",
    "optimizer1 = torch.optim.Adam(model1.parameters(), lr=0.01)\n",
    "optimizer2 = torch.optim.Adam(model2.parameters(), lr=0.01)\n",
    "optimizer3 = torch.optim.Adam(model3.parameters(), lr=0.01)\n",
    "lr_scheduler1 = torch.optim.lr_scheduler.StepLR(optimizer1, step_size=10, gamma=0.8)\n",
    "lr_scheduler2 = torch.optim.lr_scheduler.StepLR(optimizer2, step_size=10, gamma=0.8)\n",
    "lr_scheduler3 = torch.optim.lr_scheduler.StepLR(optimizer3, step_size=10, gamma=0.8)\n",
    "\n",
    "training_info1 = train_model(model1, train, test, loss, optimizer1, epochs=200, test_every_n=1, batch_size=512, lr_scheduler=lr_scheduler1)\n",
    "training_info2 = train_model(model2, train2, test2, loss, optimizer2, epochs=200, test_every_n=1, batch_size=512, lr_scheduler=lr_scheduler2)\n",
    "training_info3 = train_model(model3, train3, test3, loss, optimizer3, epochs=200, test_every_n=1, batch_size=512, lr_scheduler=lr_scheduler3)\n"
   ]
  },
  {
   "cell_type": "code",
   "execution_count": null,
   "metadata": {},
   "outputs": [],
   "source": [
    "print(f\"ver1: trainloss: {training_info1['train_losses'][-1]}, testloss: {training_info1['test_losses'][-1]}, trainr2: {training_info1['train_r2s'][-1]}, testr2: {training_info1['test_r2s'][-1]}\")\n",
    "print(f\"ver2: trainloss: {training_info2['train_losses'][-1]}, testloss: {training_info2['test_losses'][-1]}, trainr2: {training_info2['train_r2s'][-1]}, testr2: {training_info2['test_r2s'][-1]}\")\n",
    "print(f\"ver3: trainloss: {training_info3['train_losses'][-1]}, testloss: {training_info3['test_losses'][-1]}, trainr2: {training_info3['train_r2s'][-1]}, testr2: {training_info3['test_r2s'][-1]}\")"
   ]
  },
  {
   "cell_type": "code",
   "execution_count": null,
   "metadata": {},
   "outputs": [],
   "source": [
    "plt.plot(training_info[\"train_losses\"], label=\"Train Loss (Transposed)\")\n",
    "plt.plot(training_info[\"test_losses\"], label=\"Test Loss (Transposed)\")\n",
    "# plt.plot(training_info_T[\"train_losses\"], label=\"Train Loss\")\n",
    "# plt.plot(training_info_T[\"test_losses\"], label=\"Test Loss\")\n",
    "plt.xlabel(\"Epoch\")\n",
    "plt.ylabel(\"Loss (MSE)\")\n",
    "plt.legend()\n",
    "plt.show()"
   ]
  },
  {
   "cell_type": "code",
   "execution_count": null,
   "metadata": {},
   "outputs": [],
   "source": [
    "\n",
    "plt.plot(training_info[\"lrs\"], label=\"LR\")"
   ]
  },
  {
   "cell_type": "markdown",
   "metadata": {},
   "source": [
    "## Accuracy Computation"
   ]
  },
  {
   "cell_type": "code",
   "execution_count": null,
   "metadata": {},
   "outputs": [],
   "source": [
    "from torcheval.metrics import R2Score\n",
    "from torch.utils.data import DataLoader\n",
    "\n",
    "def compute_r2_for(dataset):\n",
    "    r2 = R2Score()\n",
    "    train_data = DataLoader(dataset, batch_size=256, shuffle=True)\n",
    "    for _, data in enumerate(train_data):\n",
    "        inputs, goal = data[0], data[1]\n",
    "        outputs = model(inputs)\n",
    "        r2.update(goal, outputs)\n",
    "    return r2.compute()\n",
    "\n",
    "model.to(\"cpu\")\n",
    "model.train()\n",
    "with torch.no_grad():\n",
    "    train_r2 = compute_r2_for(train)\n",
    "    print(f\"R^2 for training data: {train_r2}\")\n",
    "    test_r2 = compute_r2_for(test)\n",
    "    print(f\"R^2 for testing data: {test_r2}\")"
   ]
  },
  {
   "cell_type": "code",
   "execution_count": null,
   "metadata": {},
   "outputs": [],
   "source": [
    "from torcheval.metrics import MeanSquaredError\n",
    "\n",
    "def compute_mse_for(dataset):\n",
    "    mse = MeanSquaredError()\n",
    "    train_data = DataLoader(dataset, batch_size=256, shuffle=True)\n",
    "    for _, data in enumerate(train_data):\n",
    "        inputs, goal = data[0], data[1]\n",
    "        outputs = model(inputs)\n",
    "        mse.update(outputs, goal)\n",
    "    return mse.compute()\n",
    "\n",
    "model.to(\"cpu\")\n",
    "model.train()\n",
    "with torch.no_grad():\n",
    "    train_mse = compute_mse_for(train)\n",
    "    print(f\"MSE for training data: {train_mse}\")\n",
    "    test_mse = compute_mse_for(test)\n",
    "    print(f\"MSE for testing data: {test_mse}\")"
   ]
  },
  {
   "cell_type": "code",
   "execution_count": null,
   "metadata": {},
   "outputs": [],
   "source": [
    "import matplotlib.pyplot as plt\n",
    "import numpy as np\n",
    "\n",
    "roads = range(0, 500)\n",
    "\n",
    "#common sense testing\n",
    "# call the model ith t increments of 360 for 10 timesteps and print the results\n",
    "allres = []\n",
    "for i in roads:\n",
    "    results = []\n",
    "    inpt = test[i][0]\n",
    "    for i in range(0, 50):\n",
    "        inpt[-2, -1] = 1 * i\n",
    "        results.append(model(inpt.unsqueeze(0)).squeeze() * iri.iri_range + iri.mean_iri)\n",
    "        results[-1] = results[-1].detach().numpy()\n",
    "    allres.append(results)\n",
    "allres = np.array(allres)\n",
    "for i in range(50):\n",
    "    plt.plot(allres[i, :, 0], label=f\"Road {i}\")"
   ]
  }
 ],
 "metadata": {
  "kernelspec": {
   "display_name": "Python 3",
   "language": "python",
   "name": "python3"
  },
  "language_info": {
   "codemirror_mode": {
    "name": "ipython",
    "version": 3
   },
   "file_extension": ".py",
   "mimetype": "text/x-python",
   "name": "python",
   "nbconvert_exporter": "python",
   "pygments_lexer": "ipython3",
   "version": "3.11.3"
  }
 },
 "nbformat": 4,
 "nbformat_minor": 2
}
