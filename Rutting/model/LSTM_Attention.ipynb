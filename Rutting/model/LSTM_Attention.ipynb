{
 "cells": [
  {
   "cell_type": "markdown",
   "metadata": {},
   "source": [
    "## Imports"
   ]
  },
  {
   "cell_type": "code",
   "execution_count": 1,
   "metadata": {},
   "outputs": [],
   "source": [
    "import torch.nn as nn\n",
    "import torch\n",
    "import full_rut_dataset_generator as rut\n",
    "from training_loop import train_model\n",
    "import matplotlib.pyplot as plt\n",
    "import numpy as np"
   ]
  },
  {
   "cell_type": "markdown",
   "metadata": {},
   "source": [
    "## Constants\n",
    "\n",
    "- `SEQUENCE_LENGTH` is the number of historical measurements before the target element to provide to the model\n",
    "- `NUM_FREATURES_PER_SAMPLE` is how many details each measurement has. `IRI-only` has 3: left_iri, right_iri, and time_since_first_measurement\n",
    "- `NUM_LAYERS` is the number of RNN layers to use"
   ]
  },
  {
   "cell_type": "code",
   "execution_count": 2,
   "metadata": {},
   "outputs": [],
   "source": [
    "SEQUENCE_LENGTH = 10\n",
    "MIN_REAL_SEQUENCE_LENGTH = 3\n",
    "NUM_HEADS = 1\n",
    "NUM_FEATURES_PER_SAMPLE = 14\n",
    "NUM_LAYERS = 3\n",
    "EMBEDDING_DIM = SEQUENCE_LENGTH * NUM_FEATURES_PER_SAMPLE"
   ]
  },
  {
   "cell_type": "markdown",
   "metadata": {},
   "source": [
    "## Dataset Preperation\n",
    "\n",
    "Load train and test datasets"
   ]
  },
  {
   "cell_type": "code",
   "execution_count": 3,
   "metadata": {},
   "outputs": [
    {
     "name": "stdout",
     "output_type": "stream",
     "text": [
      "Loading cached data:\n",
      "train_42_0.8_5_False.parquet\n",
      "Cached data not found, regenerating...\n"
     ]
    },
    {
     "name": "stderr",
     "output_type": "stream",
     "text": [
      "                                                                          \r"
     ]
    }
   ],
   "source": [
    "train, test = rut.load_rut_datasets(path=\"../training_data/final_data.parquet\",\n",
    "                                    construction_path=\"../training_data/construction_data.parquet\",\n",
    "                                    seq_length=SEQUENCE_LENGTH)"
   ]
  },
  {
   "cell_type": "code",
   "execution_count": 4,
   "metadata": {},
   "outputs": [
    {
     "name": "stdout",
     "output_type": "stream",
     "text": [
      "7.494200134400001\n"
     ]
    }
   ],
   "source": [
    "print(rut.iri_range)"
   ]
  },
  {
   "cell_type": "markdown",
   "metadata": {},
   "source": [
    "## Model Definition\n",
    "\n",
    "Here a basic RNN classifier model is defined.\n",
    "\n",
    "1. Data is flattened\n",
    "2. RNN layers process data and modify hidden state\n",
    "3. final layer maps hidden state to 3 predicted probilities\n",
    "4. outputs are scaled using a logsoftmax function"
   ]
  },
  {
   "cell_type": "code",
   "execution_count": 9,
   "metadata": {},
   "outputs": [],
   "source": [
    "# class LSTM_Attention_Layer(nn.Module):\n",
    "#     def __init__(self):\n",
    "#         super(LSTM_Attention_Layer, self).__init__()\n",
    "#         self.attention = nn.MultiheadAttention(EMBEDDING_DIM, NUM_HEADS)\n",
    "#         self.linear = nn.Linear(EMBEDDING_DIM, EMBEDDING_DIM)\n",
    "#         self.final = nn.Linear(EMBEDDING_DIM, EMBEDDING_DIM)\n",
    "#         self.lstm = nn.LSTM(input_size=EMBEDDING_DIM,\n",
    "#                           hidden_size=EMBEDDING_DIM,\n",
    "#                           num_layers=1,\n",
    "#                           batch_first=True)\n",
    "#     def forward(self, x, hidden, cell):\n",
    "#         x = x.reshape(x.shape[0], -1)\n",
    "#         out = nn.ReLU()(self.linear(x))\n",
    "#         out, (h, c) = self.lstm(out, (hidden, cell))\n",
    "#         out, _ = self.attention(out, x, out)\n",
    "#         out = self.final(out)\n",
    "#         return out, h, c\n",
    "    \n",
    "    \n",
    "# class LSTM(nn.Module):\n",
    "#     def __init__(self):\n",
    "#         super(LSTM, self).__init__()\n",
    "#         self.embedding = nn.Linear(SEQUENCE_LENGTH * NUM_FEATURES_PER_SAMPLE, EMBEDDING_DIM)\n",
    "#         self.first = LSTM_Attention_Layer()\n",
    "#         self.layers = nn.ModuleList([LSTM_Attention_Layer() for _ in range(NUM_LAYERS - 1)])\n",
    "#         self.final = nn.Linear(EMBEDDING_DIM, 2)\n",
    "\n",
    "#     def forward(self, x):\n",
    "#         hidden = torch.zeros(1,\n",
    "#                              EMBEDDING_DIM).to(x.device)\n",
    "#         cell = torch.zeros(1,\n",
    "#                             EMBEDDING_DIM).to(x.device)\n",
    "#         out = self.embedding(x.reshape(-1, SEQUENCE_LENGTH * NUM_FEATURES_PER_SAMPLE))\n",
    "#         out, hidden, cell = self.first(out, hidden, cell)\n",
    "#         for layer in self.layers:\n",
    "#             out, hidden, cell = layer(out, hidden, cell)\n",
    "#         out = self.final(out.reshape(-1, EMBEDDING_DIM))\n",
    "#         return out\n",
    "\n",
    "class Basic(nn.Module):\n",
    "    def __init__(self):\n",
    "        super(Basic, self).__init__()\n",
    "        self.encoder = nn.LSTM(SEQUENCE_LENGTH, EMBEDDING_DIM, batch_first=True, num_layers=NUM_LAYERS, dropout=0.25)\n",
    "        self.decoder = nn.LSTM(SEQUENCE_LENGTH, EMBEDDING_DIM, batch_first=True, num_layers=NUM_LAYERS, dropout=0.25)\n",
    "        self.attention = nn.MultiheadAttention(EMBEDDING_DIM, NUM_HEADS)\n",
    "        self.linear = nn.Linear(EMBEDDING_DIM * NUM_FEATURES_PER_SAMPLE, 1)\n",
    "\n",
    "    def forward(self, x):\n",
    "        encoder_outputs, hidden = self.encoder(x)\n",
    "        output, hidden = self.decoder(x, hidden)\n",
    "\n",
    "        output, _ = self.attention(output, encoder_outputs, encoder_outputs)\n",
    "        output = self.linear(output.view(output.shape[0], -1))\n",
    "        return output\n",
    "    \n",
    "class Basic_transpose(nn.Module):\n",
    "    def __init__(self):\n",
    "        super(Basic_transpose, self).__init__()\n",
    "        self.encoder = nn.LSTM(NUM_FEATURES_PER_SAMPLE, EMBEDDING_DIM, batch_first=True, num_layers=NUM_LAYERS, dropout=0.25)\n",
    "        self.decoder = nn.LSTM(NUM_FEATURES_PER_SAMPLE, EMBEDDING_DIM, batch_first=True, num_layers=NUM_LAYERS, dropout=0.25)\n",
    "        self.attention = nn.MultiheadAttention(EMBEDDING_DIM, NUM_HEADS)\n",
    "        self.linear = nn.Linear(EMBEDDING_DIM * NUM_HEADS, 1)\n",
    "\n",
    "    def forward(self, x):\n",
    "        x = x.transpose(1, 2)\n",
    "        encoder_outputs, hidden = self.encoder(x)\n",
    "        output, hidden = self.decoder(x, hidden)\n",
    "\n",
    "        output, _ = self.attention(output, encoder_outputs, encoder_outputs)\n",
    "        output = self.linear(output.view(output.shape[0], -1))\n",
    "        return output"
   ]
  },
  {
   "cell_type": "markdown",
   "metadata": {},
   "source": [
    "## Training"
   ]
  },
  {
   "cell_type": "code",
   "execution_count": 12,
   "metadata": {},
   "outputs": [
    {
     "name": "stderr",
     "output_type": "stream",
     "text": [
      "                                                                                                                                        \r"
     ]
    }
   ],
   "source": [
    "# model_t = Basic_transpose()\n",
    "# loss = nn.MSELoss()\n",
    "# optimizer = torch.optim.Adam(model_t.parameters(), lr=0.01)\n",
    "# lr_scheduler = torch.optim.lr_scheduler.StepLR(optimizer, step_size=10, gamma=0.8)\n",
    "\n",
    "# # lr_scheduler = torch.optim.lr_scheduler.CyclicLR(optimizer, base_lr=0.001, max_lr=0.1, step_size_up=10, cycle_momentum=False)\n",
    "\n",
    "# training_info_T = train_model(model_t, train, test, loss, optimizer, epochs=100, test_every_n=1, batch_size=512, lr_scheduler=lr_scheduler)\n",
    "\n",
    "model1 = Basic()\n",
    "loss = nn.MSELoss()\n",
    "optimizer1 = torch.optim.Adam(model1.parameters(), lr=0.01)\n",
    "lr_scheduler1 = torch.optim.lr_scheduler.StepLR(optimizer1, step_size=10, gamma=0.8)\n",
    "\n",
    "training_info1 = train_model(model1, train, test, loss, optimizer1, epochs=100, test_every_n=1, batch_size=512, lr_scheduler=lr_scheduler1)\n"
   ]
  },
  {
   "cell_type": "code",
   "execution_count": 13,
   "metadata": {},
   "outputs": [
    {
     "name": "stdout",
     "output_type": "stream",
     "text": [
      "ver1: trainloss: 8.757073258245576e-05, testloss: 0.00011995030846182172, trainr2: 0.9934855602695053, testr2: 0.990182386856978\n"
     ]
    }
   ],
   "source": [
    "print(f\"ver1: trainloss: {training_info1['train_losses'][-1]}, testloss: {training_info1['test_losses'][-1]}, trainr2: {training_info1['train_r2s'][-1]}, testr2: {training_info1['test_r2s'][-1]}\")"
   ]
  },
  {
   "cell_type": "code",
   "execution_count": 14,
   "metadata": {},
   "outputs": [
    {
     "data": {
      "image/png": "[encoded data removed]",
      "text/plain": [
       "<Figure size 640x480 with 1 Axes>"
      ]
     },
     "metadata": {},
     "output_type": "display_data"
    }
   ],
   "source": [
    "plt.plot(training_info1[\"train_losses\"], label=\"Train Loss (Transposed)\")\n",
    "plt.plot(training_info1[\"test_losses\"], label=\"Test Loss (Transposed)\")\n",
    "# plt.plot(training_info_T[\"train_losses\"], label=\"Train Loss\")\n",
    "# plt.plot(training_info_T[\"test_losses\"], label=\"Test Loss\")\n",
    "plt.xlabel(\"Epoch\")\n",
    "plt.ylabel(\"Loss (MSE)\")\n",
    "plt.legend()\n",
    "plt.show()"
   ]
  },
  {
   "cell_type": "code",
   "execution_count": 15,
   "metadata": {},
   "outputs": [
    {
     "data": {
      "text/plain": [
       "[<matplotlib.lines.Line2D at 0x7fe9e82a1650>]"
      ]
     },
     "execution_count": 15,
     "metadata": {},
     "output_type": "execute_result"
    },
    {
     "data": {
      "image/png": "[encoded data removed]",
      "text/plain": [
       "<Figure size 640x480 with 1 Axes>"
      ]
     },
     "metadata": {},
     "output_type": "display_data"
    }
   ],
   "source": [
    "\n",
    "plt.plot(training_info1[\"lrs\"], label=\"LR\")"
   ]
  },
  {
   "cell_type": "markdown",
   "metadata": {},
   "source": [
    "## Accuracy Computation"
   ]
  },
  {
   "cell_type": "code",
   "execution_count": 16,
   "metadata": {},
   "outputs": [
    {
     "ename": "NameError",
     "evalue": "name 'model' is not defined",
     "output_type": "error",
     "traceback": [
      "\u001b[0;31m---------------------------------------------------------------------------\u001b[0m",
      "\u001b[0;31mNameError\u001b[0m                                 Traceback (most recent call last)",
      "\u001b[1;32m/mnt/c/Users/alex/GitHub/RNN-IRI/Rutting/model/LSTM_Attention.ipynb Cell 16\u001b[0m line \u001b[0;36m1\n\u001b[1;32m     <a href='vscode-notebook-cell://wsl%2Bubuntu/mnt/c/Users/alex/GitHub/RNN-IRI/Rutting/model/LSTM_Attention.ipynb#X21sdnNjb2RlLXJlbW90ZQ%3D%3D?line=9'>10</a>\u001b[0m         r2\u001b[39m.\u001b[39mupdate(goal, outputs)\n\u001b[1;32m     <a href='vscode-notebook-cell://wsl%2Bubuntu/mnt/c/Users/alex/GitHub/RNN-IRI/Rutting/model/LSTM_Attention.ipynb#X21sdnNjb2RlLXJlbW90ZQ%3D%3D?line=10'>11</a>\u001b[0m     \u001b[39mreturn\u001b[39;00m r2\u001b[39m.\u001b[39mcompute()\n\u001b[0;32m---> <a href='vscode-notebook-cell://wsl%2Bubuntu/mnt/c/Users/alex/GitHub/RNN-IRI/Rutting/model/LSTM_Attention.ipynb#X21sdnNjb2RlLXJlbW90ZQ%3D%3D?line=12'>13</a>\u001b[0m model\u001b[39m.\u001b[39mto(\u001b[39m\"\u001b[39m\u001b[39mcpu\u001b[39m\u001b[39m\"\u001b[39m)\n\u001b[1;32m     <a href='vscode-notebook-cell://wsl%2Bubuntu/mnt/c/Users/alex/GitHub/RNN-IRI/Rutting/model/LSTM_Attention.ipynb#X21sdnNjb2RlLXJlbW90ZQ%3D%3D?line=13'>14</a>\u001b[0m model\u001b[39m.\u001b[39mtrain()\n\u001b[1;32m     <a href='vscode-notebook-cell://wsl%2Bubuntu/mnt/c/Users/alex/GitHub/RNN-IRI/Rutting/model/LSTM_Attention.ipynb#X21sdnNjb2RlLXJlbW90ZQ%3D%3D?line=14'>15</a>\u001b[0m \u001b[39mwith\u001b[39;00m torch\u001b[39m.\u001b[39mno_grad():\n",
      "\u001b[0;31mNameError\u001b[0m: name 'model' is not defined"
     ]
    }
   ],
   "source": [
    "from torcheval.metrics import R2Score\n",
    "from torch.utils.data import DataLoader\n",
    "\n",
    "def compute_r2_for(dataset):\n",
    "    r2 = R2Score()\n",
    "    train_data = DataLoader(dataset, batch_size=256, shuffle=True)\n",
    "    for _, data in enumerate(train_data):\n",
    "        inputs, goal = data[0], data[1]\n",
    "        outputs = model(inputs)\n",
    "        r2.update(goal, outputs)\n",
    "    return r2.compute()\n",
    "\n",
    "model.to(\"cpu\")\n",
    "model.train()\n",
    "with torch.no_grad():\n",
    "    train_r2 = compute_r2_for(train)\n",
    "    print(f\"R^2 for training data: {train_r2}\")\n",
    "    test_r2 = compute_r2_for(test)\n",
    "    print(f\"R^2 for testing data: {test_r2}\")"
   ]
  },
  {
   "cell_type": "code",
   "execution_count": null,
   "metadata": {},
   "outputs": [],
   "source": [
    "from torcheval.metrics import MeanSquaredError\n",
    "\n",
    "def compute_mse_for(dataset):\n",
    "    mse = MeanSquaredError()\n",
    "    train_data = DataLoader(dataset, batch_size=256, shuffle=True)\n",
    "    for _, data in enumerate(train_data):\n",
    "        inputs, goal = data[0], data[1]\n",
    "        outputs = model(inputs)\n",
    "        mse.update(outputs, goal)\n",
    "    return mse.compute()\n",
    "\n",
    "model.to(\"cpu\")\n",
    "model.train()\n",
    "with torch.no_grad():\n",
    "    train_mse = compute_mse_for(train)\n",
    "    print(f\"MSE for training data: {train_mse}\")\n",
    "    test_mse = compute_mse_for(test)\n",
    "    print(f\"MSE for testing data: {test_mse}\")"
   ]
  },
  {
   "cell_type": "code",
   "execution_count": null,
   "metadata": {},
   "outputs": [],
   "source": [
    "import matplotlib.pyplot as plt\n",
    "import numpy as np\n",
    "\n",
    "roads = range(0, 500)\n",
    "\n",
    "#common sense testing\n",
    "# call the model ith t increments of 360 for 10 timesteps and print the results\n",
    "allres = []\n",
    "for i in roads:\n",
    "    results = []\n",
    "    inpt = test[i][0]\n",
    "    for i in range(0, 50):\n",
    "        inpt[-2, -1] = 1 * i\n",
    "        results.append(model(inpt.unsqueeze(0)).squeeze() * rut.iri_range + rut.mean_iri)\n",
    "        results[-1] = results[-1].detach().numpy()\n",
    "    allres.append(results)\n",
    "allres = np.array(allres)\n",
    "for i in range(50):\n",
    "    plt.plot(allres[i, :, 0], label=f\"Road {i}\")"
   ]
  }
 ],
 "metadata": {
  "kernelspec": {
   "display_name": "Python 3",
   "language": "python",
   "name": "python3"
  },
  "language_info": {
   "codemirror_mode": {
    "name": "ipython",
    "version": 3
   },
   "file_extension": ".py",
   "mimetype": "text/x-python",
   "name": "python",
   "nbconvert_exporter": "python",
   "pygments_lexer": "ipython3",
   "version": "3.11.5"
  }
 },
 "nbformat": 4,
 "nbformat_minor": 2
}
