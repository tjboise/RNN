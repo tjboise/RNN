{
 "cells": [
  {
   "attachments": {},
   "cell_type": "markdown",
   "metadata": {},
   "source": [
    "# Overview\n",
    "\n",
    "The goal of this file is to load the raw database files that ia in the `raw_data` folder, extract and format the data in a way that is usefull for training the model. The output files are saved in the `datasets` folder.\n",
    "\n",
    "Produces:\n",
    "- 'datasets/train.csv' : training data. 80% of the data.\n",
    "- 'datasets/test.csv' : testing data. 20% of the data."
   ]
  },
  {
   "cell_type": "code",
   "execution_count": 31,
   "metadata": {},
   "outputs": [],
   "source": [
    "import pandas as pd\n",
    "import numpy as np\n",
    "from sqlalchemy import create_engine, inspect\n",
    "from tqdm import tqdm\n",
    "import sys\n",
    "import os"
   ]
  },
  {
   "cell_type": "code",
   "execution_count": 67,
   "metadata": {},
   "outputs": [
    {
     "name": "stderr",
     "output_type": "stream",
     "text": [
      "100%|██████████| 9/9 [00:20<00:00,  2.28s/it]\n",
      "100%|██████████| 24/24 [01:27<00:00,  3.66s/it]\n",
      "100%|██████████| 2/2 [01:49<00:00, 54.68s/it]\n"
     ]
    }
   ],
   "source": [
    "#load data from SQL server\n",
    "server = 'localhost'\n",
    "database_names = ['Bucket_110914_1', 'Bucket_110914_2'] #Bucket_<ID>_<#>\n",
    "username = 'SA'\n",
    "password = input('Enter password: ')\n",
    "port = '1433'\n",
    "driver = 'ODBC+Driver+17+for+SQL+Server'\n",
    "\n",
    "data = {}\n",
    "for database in tqdm(database_names):\n",
    "    engine = create_engine(f'mssql+pyodbc://{username}:{password}@{server}:{port}/{database}?driver={driver}')\n",
    "    \n",
    "    inspector = inspect(engine)\n",
    "    table_names = inspector.get_table_names()\n",
    "\n",
    "    # Create a dictionary of dataframes\n",
    "    dfs = {}\n",
    "\n",
    "    # Loop through table names and for each table, execute a SQL query and load the result into a pandas DataFrame\n",
    "    for table in tqdm(table_names):\n",
    "        query = f'SELECT * FROM {table}'\n",
    "        dfs[table] = pd.read_sql_query(query, engine)\n",
    "    data = {**data, **dfs}\n",
    "\n",
    "#load data from spreadsheet\n",
    "data = {**data, **pd.read_excel('raw_data/Bucket_110915.xlsx', sheet_name=None)}\n"
   ]
  },
  {
   "cell_type": "code",
   "execution_count": 68,
   "metadata": {},
   "outputs": [
    {
     "name": "stderr",
     "output_type": "stream",
     "text": [
      "100%|██████████| 38/38 [00:05<00:00,  6.38it/s]\n"
     ]
    }
   ],
   "source": [
    "#write all data to parquet files\n",
    "for table in tqdm(data):\n",
    "    data[table].to_parquet(f'./datasets/{table}.parquet')"
   ]
  },
  {
   "cell_type": "code",
   "execution_count": 69,
   "metadata": {},
   "outputs": [
    {
     "name": "stderr",
     "output_type": "stream",
     "text": [
      "100%|██████████| 38/38 [00:02<00:00, 18.59it/s]\n"
     ]
    }
   ],
   "source": [
    "#load all data from parquet files\n",
    "data_dir = './datasets/'\n",
    "data = {}\n",
    "for file in tqdm(os.listdir(data_dir)):\n",
    "    if file.endswith('.parquet'):\n",
    "        data[\".\".join(file.split('.')[:-1])] = pd.read_parquet(data_dir + file)"
   ]
  }
 ],
 "metadata": {
  "kernelspec": {
   "display_name": "torch2gpu",
   "language": "python",
   "name": "python3"
  },
  "language_info": {
   "codemirror_mode": {
    "name": "ipython",
    "version": 3
   },
   "file_extension": ".py",
   "mimetype": "text/x-python",
   "name": "python",
   "nbconvert_exporter": "python",
   "pygments_lexer": "ipython3",
   "version": "3.11.3"
  },
  "orig_nbformat": 4
 },
 "nbformat": 4,
 "nbformat_minor": 2
}
