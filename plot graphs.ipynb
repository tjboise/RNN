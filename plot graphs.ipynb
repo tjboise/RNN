{
 "cells": [
  {
   "cell_type": "code",
   "execution_count": 1,
   "id": "487d4635",
   "metadata": {},
   "outputs": [],
   "source": [
    "import pandas as pd\n",
    "import matplotlib.pyplot as plt\n",
    "import numpy as np"
   ]
  },
  {
   "cell_type": "code",
   "execution_count": null,
   "id": "f4a9be20",
   "metadata": {},
   "outputs": [],
   "source": [
    "data = pd.read_excel('data.xlsx',sheet_name='Sheet2')\n",
    "data"
   ]
  },
  {
   "cell_type": "code",
   "execution_count": null,
   "id": "c1dc2627",
   "metadata": {},
   "outputs": [],
   "source": [
    "fig, ax = plt.subplots()\n",
    "ind=np.arange(len(time['models']))\n",
    "\n",
    "\n",
    "width=0.15\n",
    "ax.bar(ind+2*width,time['P-ave'], width,yerr=time['P-std'],ecolor='k', align='center', label='P')\n",
    "\n",
    "ax.bar(ind+width,time['R-ave'],width,yerr=time['R-std'], ecolor='k', align='center',label='R')\n",
    "ax.bar(ind,time['F1-ave'],width,yerr=time['F1-std'],ecolor='k', align='center',label='F1')\n",
    "ax.bar(ind-width,time['mIou-ave'],width,yerr=time['miou-std'],ecolor='k', align='center',label='mIoU')\n",
    "ax.bar(ind-2*width,time['mPA-ave'],width,yerr=time['mPA-std'],ecolor='k', align='center',label='mPA')\n",
    "\n",
    "\n",
    "#ax.barh(ind-2*width,time['mean_acc'], width,xerr=time['std_acc'], label='Accuracy')\n",
    "\n",
    "ax.set(xticks=ind + width, xticklabels=time['models'])\n",
    "plt.xticks(ind, time['models'])\n",
    "#plt.xticks(X_axis, data['model'],rotation=90)\n",
    "#plt.ylabel(\"F1 score\")\n",
    "plt.xlabel('Models')\n",
    "#ax.ylabel(\"Models\")\n",
    "# #plt.title(\"Time\")\n",
    "ax.legend(loc=2)\n",
    "# plt.show()\n",
    "plt.xlim(-1,6)\n",
    "plt.ylim(0.6,1)\n",
    "plt.savefig('f1.png',dpi=1200,bbox_inches = 'tight')\n",
    "\n",
    "#plt.xticks(time['model'],rotation=135)#xticks旋转270度显示"
   ]
  }
 ],
 "metadata": {
  "kernelspec": {
   "display_name": "Python 3",
   "language": "python",
   "name": "python3"
  },
  "language_info": {
   "codemirror_mode": {
    "name": "ipython",
    "version": 3
   },
   "file_extension": ".py",
   "mimetype": "text/x-python",
   "name": "python",
   "nbconvert_exporter": "python",
   "pygments_lexer": "ipython3",
   "version": "3.8.8"
  }
 },
 "nbformat": 4,
 "nbformat_minor": 5
}
