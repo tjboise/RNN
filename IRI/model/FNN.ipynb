{
 "cells": [
  {
   "cell_type": "code",
   "execution_count": null,
   "id": "fcbcbb29",
   "metadata": {},
   "outputs": [],
   "source": [
    "import pandas as pd\n",
    "import numpy as np\n",
    "import matplotlib.pyplot as plt\n",
    "import torch.nn as nn\n",
    "import torch\n",
    "from tqdm import tqdm\n",
    "import full_iri_dataset_generator as iri\n",
    "from training_loop import train_model"
   ]
  },
  {
   "cell_type": "code",
   "execution_count": null,
   "id": "d23820eb",
   "metadata": {},
   "outputs": [],
   "source": [
    "SEQUENCE_LENGTH = 10"
   ]
  },
  {
   "cell_type": "markdown",
   "id": "dc39da0e",
   "metadata": {},
   "source": [
    "# Description\n",
    "\n",
    "This is a test model to figure out standardized training and dataset formatting"
   ]
  },
  {
   "cell_type": "markdown",
   "id": "d0cd7158",
   "metadata": {},
   "source": [
    "## Preprocessing"
   ]
  },
  {
   "cell_type": "code",
   "execution_count": null,
   "id": "18614bc7",
   "metadata": {},
   "outputs": [],
   "source": [
    "train, test = iri.load_iri_datasets(path=\"../training_data/final_data.parquet\",\n",
    "                                    construction_path=\"../training_data/construction_data.parquet\",\n",
    "                                    seq_length=SEQUENCE_LENGTH)\n",
    "train2, test2 = iri.load_iri_datasets(path=\"../training_data/final_data.parquet\",\n",
    "                                    construction_path=\"../training_data/construction_data.parquet\",\n",
    "                                    seq_length=SEQUENCE_LENGTH)\n",
    "train3, test3 = iri.load_iri_datasets(path=\"../training_data/final_data.parquet\",\n",
    "                                    construction_path=\"../training_data/construction_data.parquet\",\n",
    "                                    seq_length=SEQUENCE_LENGTH)\n",
    "\n",
    "print(\"Train size: \", len(train))\n",
    "print(\"Test size: \", len(test))"
   ]
  },
  {
   "cell_type": "markdown",
   "id": "b05dcd63",
   "metadata": {},
   "source": [
    "## Model Definition"
   ]
  },
  {
   "cell_type": "code",
   "execution_count": null,
   "id": "68ff376a",
   "metadata": {},
   "outputs": [],
   "source": [
    "class FNN(nn.Module):\n",
    "    def __init__(self):\n",
    "        super(FNN, self).__init__()\n",
    "        self.f1 = nn.Linear(SEQUENCE_LENGTH * 14, 4096)\n",
    "        self.f2 = nn.Linear(4096, 512)\n",
    "        self.f4 = nn.Linear(512, 64)\n",
    "        self.f3 = nn.Linear(64, 2)\n",
    "        \n",
    "    def forward(self, x):\n",
    "        x = x.view(-1, 140)\n",
    "        x = torch.relu(self.f1(x))\n",
    "        x = torch.relu(self.f2(x))\n",
    "        x = torch.relu(self.f4(x))\n",
    "        x = self.f3(x)\n",
    "        return x\n"
   ]
  },
  {
   "cell_type": "markdown",
   "id": "1401b0de",
   "metadata": {},
   "source": [
    "## Training"
   ]
  },
  {
   "cell_type": "code",
   "execution_count": null,
   "id": "06fdfefb",
   "metadata": {},
   "outputs": [],
   "source": [
    "model1 = FNN()\n",
    "model2 = FNN()\n",
    "model3 = FNN()\n",
    "loss = nn.MSELoss()\n",
    "optimizer1 = torch.optim.Adam(model1.parameters(), lr=0.0001)\n",
    "optimizer2 = torch.optim.Adam(model2.parameters(), lr=0.0001)\n",
    "optimizer3 = torch.optim.Adam(model3.parameters(), lr=0.0001)\n",
    "lr_scheduler1 = torch.optim.lr_scheduler.StepLR(optimizer1, step_size=10, gamma=0.75)\n",
    "lr_scheduler2 = torch.optim.lr_scheduler.StepLR(optimizer2, step_size=10, gamma=0.75)\n",
    "lr_scheduler3 = torch.optim.lr_scheduler.StepLR(optimizer3, step_size=10, gamma=0.75)\n",
    "\n",
    "first = train_model(model1, train, test, loss, optimizer1, epochs=250, test_every_n=10, batch_size=512, lr_scheduler=lr_scheduler1)\n",
    "second = train_model(model2, train2, test2, loss, optimizer2, epochs=250, test_every_n=10, batch_size=512, lr_scheduler=lr_scheduler2)\n",
    "third = train_model(model3, train3, test3, loss, optimizer3, epochs=250, test_every_n=10, batch_size=512, lr_scheduler=lr_scheduler3)\n",
    "        "
   ]
  },
  {
   "cell_type": "code",
   "execution_count": null,
   "id": "12698d42",
   "metadata": {},
   "outputs": [],
   "source": [
    "print(f\"ver1: trainloss: {first['train_losses'][-1]}, testloss: {first['test_losses'][-1]}, trainr2: {first['train_r2s'][-1]}, testr2: {first['test_r2s'][-1]}\")\n",
    "print(f\"ver2: trainloss: {second['train_losses'][-1]}, testloss: {second['test_losses'][-1]}, trainr2: {second['train_r2s'][-1]}, testr2: {second['test_r2s'][-1]}\")\n",
    "print(f\"ver3: trainloss: {third['train_losses'][-1]}, testloss: {third['test_losses'][-1]}, trainr2: {third['train_r2s'][-1]}, testr2: {third['test_r2s'][-1]}\")"
   ]
  },
  {
   "cell_type": "markdown",
   "id": "7996cfeb",
   "metadata": {},
   "source": [
    "# Evaluation"
   ]
  },
  {
   "cell_type": "code",
   "execution_count": null,
   "id": "f349be4c",
   "metadata": {},
   "outputs": [],
   "source": [
    "# from torcheval.metrics import R2Score\n",
    "from sklearn.metrics import r2_score\n",
    "from torch.utils.data import DataLoader\n",
    "\n",
    "def compute_r2_for(dataset):\n",
    "    from_model = []\n",
    "    goals = []\n",
    "    train_data = DataLoader(dataset, batch_size=256)\n",
    "    for _, data in enumerate(train_data):\n",
    "        inputs, goal = data[0], data[1]\n",
    "        outputs = model(inputs)\n",
    "        from_model.append(outputs)\n",
    "        goals.append(goal)\n",
    "    from_model = torch.cat(from_model)\n",
    "    goals = torch.cat(goals)\n",
    "    return r2_score(goals, from_model)\n",
    "\n",
    "model.to(\"cpu\")\n",
    "model.eval()\n",
    "with torch.no_grad():\n",
    "    train_r2 = compute_r2_for(train)\n",
    "    print(f\"R^2 for training data: {train_r2}\")\n",
    "    test_r2 = compute_r2_for(test)\n",
    "    print(f\"R^2 for testing data: {test_r2}\")"
   ]
  },
  {
   "cell_type": "code",
   "execution_count": null,
   "id": "59ff360a",
   "metadata": {},
   "outputs": [],
   "source": [
    "from torcheval.metrics import MeanSquaredError\n",
    "\n",
    "def compute_mse_for(dataset):\n",
    "    mse = MeanSquaredError()\n",
    "    train_data = DataLoader(dataset, batch_size=256, shuffle=True)\n",
    "    for _, data in enumerate(train_data):\n",
    "        inputs, goal = data[0], data[1]\n",
    "        outputs = model(inputs)\n",
    "        mse.update(goal, outputs)\n",
    "    return mse.compute()\n",
    "\n",
    "model.to(\"cpu\")\n",
    "model.eval()\n",
    "with torch.no_grad():\n",
    "    train_mse = compute_mse_for(train)\n",
    "    print(f\"MSE for training data: {train_mse}\")\n",
    "    test_mse = compute_mse_for(test)\n",
    "    print(f\"MSE for testing data: {test_mse}\")"
   ]
  }
 ],
 "metadata": {
  "kernelspec": {
   "display_name": "Python 3",
   "language": "python",
   "name": "python3"
  },
  "language_info": {
   "codemirror_mode": {
    "name": "ipython",
    "version": 3
   },
   "file_extension": ".py",
   "mimetype": "text/x-python",
   "name": "python",
   "nbconvert_exporter": "python",
   "pygments_lexer": "ipython3",
   "version": "3.11.3"
  }
 },
 "nbformat": 4,
 "nbformat_minor": 5
}
